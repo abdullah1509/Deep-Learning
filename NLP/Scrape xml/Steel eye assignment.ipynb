{
 "cells": [
  {
   "cell_type": "code",
   "execution_count": null,
   "metadata": {},
   "outputs": [],
   "source": [
    "import requests\n",
    "\n",
    "URL = \"https://registers.esma.europa.eu/solr/esma_registers_firds_files/select?q=*&fq=publication_date:%5B2021-01-17T00:00:00Z+TO+2021-01-19T23:59:59Z%5D&wt=xml&indent=true&start=0&rows=100\"\n",
    "\n",
    "response = requests.get(URL)\n",
    "with open('feed.xml', 'wb') as file:\n",
    "    file.write(response.content)"
   ]
  },
  {
   "cell_type": "code",
   "execution_count": null,
   "metadata": {},
   "outputs": [],
   "source": [
    "from lxml import etree\n",
    "\n",
    "def parseBookXML(xmlFile):\n",
    "    with open(xmlFile) as fobj:\n",
    "        xml = fobj.read()\n",
    "    root = etree.fromstring(xml)\n",
    "    book_dict = {}\n",
    "    books = []\n",
    "\n",
    "    for book in root.getchildren():\n",
    "        for elem in book.getchildren():\n",
    "            if elem.text:\n",
    "                text = elem.text\n",
    "            else:\n",
    "                text = ''\n",
    "            if elem.file_name == 'DLTINS':\n",
    "                book_dict[elem.file_name] = text\n",
    "\n",
    "    return books\n",
    "\n",
    "books_list = parseBookXML('feed.xml')\n",
    "\n",
    "print(books_list)"
   ]
  },
  {
   "cell_type": "code",
   "execution_count": null,
   "metadata": {},
   "outputs": [],
   "source": [
    "import os.path\n",
    "import zipfile\n",
    "\n",
    "with zipfile.ZipFile('some_file.zip') as zf:\n",
    "    for member in zf.infolist():\n",
    "        words = member.filename.split('/')\n",
    "        path = \"output\"\n",
    "        for word in words[:-1]:\n",
    "            drive, word = os.path.splitdrive(word)\n",
    "            head, word = os.path.split(word)\n",
    "            if word in (os.curdir, os.pardir, ''): continue\n",
    "            path = os.path.join(path, word)\n",
    "\n",
    "        zf.extract(member, path)"
   ]
  },
  {
   "cell_type": "code",
   "execution_count": null,
   "metadata": {},
   "outputs": [],
   "source": [
    "# Importing the required libraries\n",
    "import xml.etree.ElementTree as Xet\n",
    "import pandas as pd\n",
    "\n",
    "cols = [\"name\", \"phone\", \"email\", \"date\", \"country\"]\n",
    "rows = []\n",
    "\n",
    "# Parsing the XML file\n",
    "xmlparse = Xet.parse('sample.xml')\n",
    "root = xmlparse.getroot()\n",
    "for i in root:\n",
    "    name = i.find(\"name\").text\n",
    "    phone = i.find(\"phone\").text\n",
    "    email = i.find(\"email\").text\n",
    "    date = i.find(\"date\").text\n",
    "    country = i.find(\"country\").text\n",
    "    \n",
    "    rows.append({\"FinInstrmGnlAttrbts.FullNm\": FinInstrmGnlAttrbts.Id, \n",
    "                 \"FinInstrmGnlAttrbts.FullNm\": FinInstrmGnlAttrbts.FullNm, \n",
    "                 \"FinInstrmGnlAttrbts.ClssfctnTp\": FinInstrmGnlAttrbts.ClssfctnTp, \n",
    "                 \"FinInstrmGnlAttrbts.CmmdtyDerivInd\": FinInstrmGnlAttrbts.CmmdtyDerivInd, \n",
    "                 \"FinInstrmGnlAttrbts.NtnlCcy\": FinInstrmGnlAttrbts.NtnlCcy,\n",
    "                \"Issr\" : Issr})\n",
    "\n",
    "df = pd.DataFrame(rows, columns=cols)\n",
    "\n",
    "# Writing dataframe to csv\n",
    "df.to_csv('output.csv')\n"
   ]
  }
 ],
 "metadata": {
  "kernelspec": {
   "display_name": "Python 3",
   "language": "python",
   "name": "python3"
  },
  "language_info": {
   "codemirror_mode": {
    "name": "ipython",
    "version": 3
   },
   "file_extension": ".py",
   "mimetype": "text/x-python",
   "name": "python",
   "nbconvert_exporter": "python",
   "pygments_lexer": "ipython3",
   "version": "3.7.4"
  }
 },
 "nbformat": 4,
 "nbformat_minor": 2
}
