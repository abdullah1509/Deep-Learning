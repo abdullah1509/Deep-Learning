{
 "cells": [
  {
   "cell_type": "code",
   "execution_count": 1,
   "metadata": {},
   "outputs": [],
   "source": [
    "import tensorflow as tf"
   ]
  },
  {
   "cell_type": "code",
   "execution_count": 2,
   "metadata": {},
   "outputs": [
    {
     "data": {
      "text/plain": [
       "<TensorSliceDataset shapes: (), types: tf.int32>"
      ]
     },
     "execution_count": 2,
     "metadata": {},
     "output_type": "execute_result"
    }
   ],
   "source": [
    "# Create tf dataset from a list\n",
    "daily_sales_numbers = [21, 22, -108, 31, -1, 32, 34,31]\n",
    "\n",
    "tf_dataset = tf.data.Dataset.from_tensor_slices(daily_sales_numbers)\n",
    "tf_dataset"
   ]
  },
  {
   "cell_type": "code",
   "execution_count": 3,
   "metadata": {},
   "outputs": [
    {
     "name": "stdout",
     "output_type": "stream",
     "text": [
      "21\n",
      "22\n",
      "-108\n",
      "31\n",
      "-1\n",
      "32\n",
      "34\n",
      "31\n"
     ]
    }
   ],
   "source": [
    "for sales in tf_dataset:\n",
    "    print(sales.numpy())"
   ]
  },
  {
   "cell_type": "code",
   "execution_count": 4,
   "metadata": {},
   "outputs": [
    {
     "name": "stdout",
     "output_type": "stream",
     "text": [
      "21\n",
      "22\n",
      "-108\n",
      "31\n",
      "-1\n",
      "32\n",
      "34\n",
      "31\n"
     ]
    }
   ],
   "source": [
    "# also\n",
    "for sales in tf_dataset.as_numpy_iterator():\n",
    "    print(sales)"
   ]
  },
  {
   "cell_type": "code",
   "execution_count": 5,
   "metadata": {},
   "outputs": [
    {
     "name": "stdout",
     "output_type": "stream",
     "text": [
      "21\n",
      "22\n",
      "-108\n"
     ]
    }
   ],
   "source": [
    "# Iterate through first n elements in tf dataset\n",
    "for sales in tf_dataset.take(3):\n",
    "    print(sales.numpy())"
   ]
  },
  {
   "cell_type": "code",
   "execution_count": 6,
   "metadata": {},
   "outputs": [
    {
     "name": "stdout",
     "output_type": "stream",
     "text": [
      "21\n",
      "22\n",
      "31\n",
      "32\n",
      "34\n",
      "31\n"
     ]
    }
   ],
   "source": [
    "# Filter sales numbers that are < 0\n",
    "tf_dataset = tf_dataset.filter(lambda x: x>0)\n",
    "for sales in tf_dataset.as_numpy_iterator():\n",
    "    print(sales)"
   ]
  },
  {
   "cell_type": "code",
   "execution_count": 7,
   "metadata": {},
   "outputs": [
    {
     "name": "stdout",
     "output_type": "stream",
     "text": [
      "1575\n",
      "1650\n",
      "2325\n",
      "2400\n",
      "2550\n",
      "2325\n"
     ]
    }
   ],
   "source": [
    "# Convert sales numbers from USA dollars ($) to Indian Rupees (INR) Assuming 1->75 conversation rate\n",
    "tf_dataset = tf_dataset.map(lambda x: x*75)\n",
    "for sales in tf_dataset.as_numpy_iterator():\n",
    "    print(sales)"
   ]
  },
  {
   "cell_type": "code",
   "execution_count": 8,
   "metadata": {},
   "outputs": [
    {
     "name": "stdout",
     "output_type": "stream",
     "text": [
      "[1575 1650]\n",
      "[2325 2400]\n",
      "[2550 2325]\n"
     ]
    }
   ],
   "source": [
    "# batch of size 2\n",
    "for sales in tf_dataset.batch(2):\n",
    "    print(sales.numpy())"
   ]
  },
  {
   "cell_type": "code",
   "execution_count": 9,
   "metadata": {},
   "outputs": [
    {
     "name": "stdout",
     "output_type": "stream",
     "text": [
      "[1575 2325]\n",
      "[2400 2550]\n",
      "[2325 1650]\n"
     ]
    }
   ],
   "source": [
    "# all above operation in one, this is tensorflow input pipeline\n",
    "tf_dataset= tf.data.Dataset.from_tensor_slices(daily_sales_numbers)\n",
    "tf_dataset= tf_dataset.filter(lambda x: x>0).map(lambda y: y*75).shuffle(2).batch(2)\n",
    "\n",
    "for sales in tf_dataset.as_numpy_iterator():\n",
    "    print(sales)"
   ]
  },
  {
   "cell_type": "markdown",
   "metadata": {},
   "source": [
    "### Images"
   ]
  },
  {
   "cell_type": "code",
   "execution_count": 10,
   "metadata": {},
   "outputs": [
    {
     "name": "stdout",
     "output_type": "stream",
     "text": [
      "b'datasets\\\\cat\\\\00000001_000.jpg'\n",
      "b'datasets\\\\cat\\\\00000001_005.jpg'\n",
      "b'datasets\\\\cat\\\\00000001_008.jpg'\n"
     ]
    }
   ],
   "source": [
    "# list of images\n",
    "images_ds= tf.data.Dataset.list_files('datasets/*/*', shuffle=False)\n",
    "\n",
    "for file in images_ds.take(3):\n",
    "    print(file.numpy())"
   ]
  },
  {
   "cell_type": "code",
   "execution_count": 11,
   "metadata": {},
   "outputs": [
    {
     "name": "stdout",
     "output_type": "stream",
     "text": [
      "b'datasets\\\\cat\\\\00000001_024.jpg'\n",
      "b'datasets\\\\cat\\\\00000001_011.jpg'\n",
      "b'datasets\\\\cat\\\\00000001_027.jpg'\n"
     ]
    }
   ],
   "source": [
    "images_ds = images_ds.shuffle(200)\n",
    "for file in images_ds.take(3):\n",
    "    print(file.numpy())"
   ]
  },
  {
   "cell_type": "code",
   "execution_count": 12,
   "metadata": {},
   "outputs": [],
   "source": [
    "class_name=['cat', 'dog']"
   ]
  },
  {
   "cell_type": "code",
   "execution_count": 13,
   "metadata": {},
   "outputs": [
    {
     "data": {
      "text/plain": [
       "30"
      ]
     },
     "execution_count": 13,
     "metadata": {},
     "output_type": "execute_result"
    }
   ],
   "source": [
    "image_count= len(images_ds)\n",
    "image_count"
   ]
  },
  {
   "cell_type": "code",
   "execution_count": 14,
   "metadata": {},
   "outputs": [],
   "source": [
    "# declaring train size\n",
    "train_size= int(image_count*0.8)\n",
    "\n",
    "# making training size 80%\n",
    "train_ds= images_ds.take(train_size)\n",
    "\n",
    "# skip 1st 80% of data to make test size 20%\n",
    "test_ds= images_ds.skip(train_size)"
   ]
  },
  {
   "cell_type": "code",
   "execution_count": 15,
   "metadata": {},
   "outputs": [
    {
     "name": "stdout",
     "output_type": "stream",
     "text": [
      "24\n",
      "6\n"
     ]
    }
   ],
   "source": [
    "print(len(train_ds))\n",
    "print(len(test_ds))"
   ]
  },
  {
   "cell_type": "code",
   "execution_count": 16,
   "metadata": {},
   "outputs": [
    {
     "data": {
      "text/plain": [
       "'dog'"
      ]
     },
     "execution_count": 16,
     "metadata": {},
     "output_type": "execute_result"
    }
   ],
   "source": [
    "# takeing label name from file path; this is demo for 1 file\n",
    "s= 'datasets\\\\dog\\\\dog.4019.jpg'\n",
    "s.split('\\\\')[-2]"
   ]
  },
  {
   "cell_type": "code",
   "execution_count": 17,
   "metadata": {},
   "outputs": [],
   "source": [
    "def get_label(file_path):\n",
    "    import os\n",
    "    # parts represent full path of file\n",
    "    parts = tf.strings.split(file_path, os.path.sep)\n",
    "    # it split and pick label from file path\n",
    "    return parts[-2]"
   ]
  },
  {
   "cell_type": "code",
   "execution_count": 18,
   "metadata": {},
   "outputs": [],
   "source": [
    "def process_image(file_path):\n",
    "    label = get_label(file_path)\n",
    "    img = tf.io.read_file(file_path) # load the raw data from the file as a string\n",
    "    img = tf.image.decode_jpeg(img) # decode jpeg image\n",
    "    img = tf.image.resize(img, [128, 128]) # resize image\n",
    "    return img, label"
   ]
  },
  {
   "cell_type": "code",
   "execution_count": 19,
   "metadata": {},
   "outputs": [
    {
     "data": {
      "text/plain": [
       "array([[[ 58.293213,  56.447388,  74.97864 ],\n",
       "        [ 65.70776 ,  52.732788,  73.10315 ],\n",
       "        [ 73.403564,  47.86194 ,  68.36182 ],\n",
       "        [ 72.305786,  36.79016 ,  57.026733],\n",
       "        [ 62.270386,  32.234375,  40.234375],\n",
       "        [ 59.016235,  32.96216 ,  41.96216 ],\n",
       "        [ 54.004272,  32.785522,  41.606567],\n",
       "        [ 52.765747,  35.687622,  43.609497],\n",
       "        [ 42.21045 ,  31.55017 ,  54.36267 ],\n",
       "        [ 70.38916 ,  68.748535,  93.15442 ],\n",
       "        [ 82.4375  ,  94.015625, 121.984375],\n",
       "        [ 83.60071 , 107.47742 , 138.03906 ],\n",
       "        [ 86.      , 115.      , 145.      ],\n",
       "        [ 91.234375, 118.46875 , 144.82544 ],\n",
       "        [ 90.71326 , 117.85388 , 134.01013 ],\n",
       "        [ 75.140625, 102.140625,  96.953125],\n",
       "        [ 83.42786 , 109.52161 , 100.38098 ],\n",
       "        [ 95.330444, 122.330444, 113.611694],\n",
       "        [100.43884 , 131.9701  , 119.20447 ],\n",
       "        [101.31531 , 134.65906 , 120.90906 ],\n",
       "        [105.111084, 135.97131 , 122.67273 ],\n",
       "        [108.39636 , 136.92188 , 127.309204],\n",
       "        [108.539795, 137.33557 , 127.63281 ],\n",
       "        [106.531494, 135.59753 , 125.80469 ],\n",
       "        [105.727295, 135.92249 , 126.71912 ],\n",
       "        [106.18323 , 137.18323 , 131.18323 ],\n",
       "        [107.99097 , 138.99097 , 132.99097 ],\n",
       "        [108.99695 , 139.99695 , 133.99695 ],\n",
       "        [109.04578 , 140.04578 , 134.8739  ],\n",
       "        [108.      , 138.98962 , 133.28638 ],\n",
       "        [102.5094  , 135.48438 , 128.53442 ],\n",
       "        [ 95.68494 , 130.13806 , 138.32556 ],\n",
       "        [108.8219  , 142.36877 , 171.18127 ],\n",
       "        [120.0719  , 154.43127 , 188.35315 ],\n",
       "        [ 50.239258,  81.50488 , 108.70801 ],\n",
       "        [137.10718 , 167.10718 , 193.10718 ],\n",
       "        [145.03906 , 171.11719 , 203.88281 ],\n",
       "        [146.02344 , 176.02344 , 200.02344 ],\n",
       "        [153.00354 , 180.93396 , 204.96875 ],\n",
       "        [155.56262 , 179.96887 , 205.76575 ],\n",
       "        [159.67566 , 180.67566 , 207.67566 ],\n",
       "        [156.72656 , 182.72656 , 209.72656 ],\n",
       "        [159.07812 , 185.07812 , 212.07812 ],\n",
       "        [141.41748 , 167.41748 , 194.41748 ],\n",
       "        [160.97656 , 186.97656 , 213.97656 ],\n",
       "        [163.93103 , 184.66675 , 216.19531 ],\n",
       "        [165.04456 , 185.87036 , 217.21875 ],\n",
       "        [165.00781 , 185.9237  , 217.09192 ],\n",
       "        [166.00781 , 186.9237  , 218.09192 ],\n",
       "        [159.14612 , 184.85938 , 212.01648 ],\n",
       "        [159.96094 , 185.96094 , 212.96094 ],\n",
       "        [161.89685 , 187.89685 , 214.89685 ],\n",
       "        [159.1814  , 185.1814  , 212.1814  ],\n",
       "        [157.48438 , 183.48438 , 210.48438 ],\n",
       "        [161.40588 , 187.40588 , 214.40588 ],\n",
       "        [159.87097 , 185.87097 , 212.87097 ],\n",
       "        [156.07031 , 182.07031 , 209.07031 ],\n",
       "        [168.64844 , 190.64844 , 213.42969 ],\n",
       "        [164.96997 , 186.96997 , 207.96997 ],\n",
       "        [160.97314 , 182.97314 , 203.97314 ],\n",
       "        [161.73999 , 183.73999 , 204.73999 ],\n",
       "        [143.6532  , 162.46045 , 182.72607 ],\n",
       "        [165.09998 , 183.09998 , 203.09998 ],\n",
       "        [169.52808 , 187.52808 , 207.52808 ],\n",
       "        [161.31506 , 179.31506 , 199.31506 ],\n",
       "        [150.48279 , 170.56091 , 186.09534 ],\n",
       "        [148.54688 , 170.54688 , 183.4895  ],\n",
       "        [150.1416  , 171.17395 , 188.0769  ],\n",
       "        [150.10498 , 171.10498 , 192.03296 ],\n",
       "        [157.65564 , 177.69409 , 201.57874 ],\n",
       "        [151.15979 , 173.15979 , 196.15979 ],\n",
       "        [157.41418 , 178.41418 , 207.41418 ],\n",
       "        [159.95667 , 181.65979 , 206.55042 ],\n",
       "        [159.62463 , 181.62463 , 202.62463 ],\n",
       "        [161.729   , 183.729   , 207.729   ],\n",
       "        [160.67273 , 182.67273 , 206.67273 ],\n",
       "        [158.96875 , 180.96875 , 204.96875 ],\n",
       "        [155.96875 , 177.96875 , 201.96875 ],\n",
       "        [162.15625 , 184.15625 , 208.15625 ],\n",
       "        [157.04688 , 179.04688 , 203.04688 ],\n",
       "        [158.      , 180.      , 204.      ],\n",
       "        [156.      , 178.      , 202.      ],\n",
       "        [154.53125 , 176.23438 , 203.      ],\n",
       "        [155.67188 , 176.32812 , 201.      ],\n",
       "        [155.6875  , 173.6875  , 196.53125 ],\n",
       "        [134.11389 , 150.59827 , 172.14514 ],\n",
       "        [150.62463 , 171.62463 , 192.62463 ],\n",
       "        [147.70312 , 168.70312 , 189.70312 ],\n",
       "        [145.39856 , 166.39856 , 187.39856 ],\n",
       "        [143.89062 , 164.89062 , 185.89062 ],\n",
       "        [139.98499 , 162.98499 , 180.98499 ],\n",
       "        [138.07812 , 159.07812 , 176.3064  ],\n",
       "        [139.34375 , 158.34375 , 173.34375 ],\n",
       "        [131.55994 , 149.55994 , 163.55994 ],\n",
       "        [130.74377 , 148.3844  , 167.66565 ],\n",
       "        [126.470825, 143.47083 , 161.47083 ],\n",
       "        [127.02136 , 140.02136 , 156.02136 ],\n",
       "        [123.640625, 135.64062 , 149.64062 ],\n",
       "        [112.64319 , 132.64319 , 140.23181 ],\n",
       "        [122.444214, 122.444214, 148.11389 ],\n",
       "        [ 54.219116,  68.60974 ,  70.834595],\n",
       "        [ 82.704956, 102.73682 ,  90.71936 ],\n",
       "        [132.40076 , 134.98242 ,  97.35535 ],\n",
       "        [ 96.03186 , 107.66467 ,  82.93054 ],\n",
       "        [ 85.09656 ,  90.619995,  88.30371 ],\n",
       "        [ 74.446045,  84.36682 ,  89.24255 ],\n",
       "        [ 35.016846,  53.42639 ,  62.360596],\n",
       "        [ 47.195312,  57.195312,  59.195312],\n",
       "        [ 46.580933,  53.924683,  55.268433],\n",
       "        [ 39.804688,  45.335938,  43.570312],\n",
       "        [ 50.36487 ,  56.786743,  57.48987 ],\n",
       "        [ 61.398438,  78.49036 ,  85.49585 ],\n",
       "        [ 75.94714 ,  99.85339 , 111.81018 ],\n",
       "        [ 78.89844 , 104.03357 , 123.628174],\n",
       "        [ 89.234375, 108.53125 , 134.23438 ],\n",
       "        [ 82.35437 , 109.35437 , 130.35437 ],\n",
       "        [ 85.578125, 112.578125, 133.57812 ],\n",
       "        [ 83.      , 110.      , 131.      ],\n",
       "        [ 83.      , 110.      , 130.96948 ],\n",
       "        [ 81.71472 , 108.      , 125.      ],\n",
       "        [ 79.20337 , 106.59375 , 125.39856 ],\n",
       "        [ 72.1449  , 103.1449  , 124.1449  ],\n",
       "        [ 69.06848 , 101.03723 , 124.05286 ],\n",
       "        [109.65149 , 133.64233 , 159.80164 ],\n",
       "        [111.03235 , 139.03235 , 161.3761  ],\n",
       "        [110.64844 , 136.17969 , 157.91406 ],\n",
       "        [109.07031 , 125.76404 , 148.40466 ],\n",
       "        [102.60156 , 133.67969 , 151.71875 ]],\n",
       "\n",
       "       [[ 63.264038,  47.849976,  61.201538],\n",
       "        [ 57.674927,  37.984375,  50.453125],\n",
       "        [ 57.437622,  32.875244,  46.02356 ],\n",
       "        [ 57.764404,  29.089233,  41.440796],\n",
       "        [ 60.84375 ,  37.60022 ,  43.765625],\n",
       "        [ 58.46692 ,  40.953125,  50.820312],\n",
       "        [ 53.288452,  41.919067,  55.27002 ],\n",
       "        [ 73.82214 ,  71.829956,  87.56433 ],\n",
       "        [ 80.25427 ,  85.9574  , 105.005005],\n",
       "        [ 85.625   ,  94.95874 , 115.537964],\n",
       "        [ 88.394775, 105.252075, 129.91406 ],\n",
       "        [ 82.323   , 106.37244 , 134.47131 ],\n",
       "        [ 87.923096, 115.03845 , 142.23438 ],\n",
       "        [ 90.20691 , 116.35156 , 142.85535 ],\n",
       "        [ 91.124146, 117.26477 , 131.70227 ],\n",
       "        [ 76.888306, 102.12268 ,  98.753174],\n",
       "        [ 80.684326, 106.69531 ,  95.68982 ],\n",
       "        [ 93.04431 , 120.16846 , 110.79602 ],\n",
       "        [103.6759  , 134.53125 , 126.20715 ],\n",
       "        [103.88281 , 135.63342 , 130.3606  ],\n",
       "        [103.88281 , 135.8645  , 132.53125 ],\n",
       "        [104.939575, 136.82239 , 133.58801 ],\n",
       "        [106.6897  , 138.57251 , 135.33813 ],\n",
       "        [107.765625, 139.64844 , 136.41406 ],\n",
       "        [107.67224 , 140.2102  , 136.79651 ],\n",
       "        [107.77063 , 143.51843 , 139.29688 ],\n",
       "        [108.68152 , 144.54504 , 140.3125  ],\n",
       "        [103.12634 , 138.91272 , 134.6875  ],\n",
       "        [104.17969 , 138.82812 , 134.71094 ],\n",
       "        [107.49988 , 138.49988 , 132.7655  ],\n",
       "        [ 99.63757 , 132.63757 , 124.91882 ],\n",
       "        [104.14685 , 138.59998 , 145.88123 ],\n",
       "        [112.974976, 146.92188 , 173.56873 ],\n",
       "        [121.77478 , 156.13416 , 189.33728 ],\n",
       "        [ 42.35681 ,  74.35681 ,  98.88782 ],\n",
       "        [133.15173 , 163.15173 , 187.68958 ],\n",
       "        [141.81384 , 168.9701  , 198.9701  ],\n",
       "        [142.21875 , 175.98438 , 202.75    ],\n",
       "        [149.79407 , 180.67688 , 208.4425  ],\n",
       "        [152.85193 , 180.29651 , 208.88281 ],\n",
       "        [155.23438 , 182.11719 , 210.88281 ],\n",
       "        [157.60938 , 181.84375 , 207.72656 ],\n",
       "        [161.63281 , 185.86719 , 211.75    ],\n",
       "        [145.85938 , 170.09375 , 195.97656 ],\n",
       "        [160.07874 , 184.31311 , 210.19592 ],\n",
       "        [156.58594 , 178.26184 , 203.28906 ],\n",
       "        [159.35852 , 181.11719 , 205.87415 ],\n",
       "        [157.23438 , 179.0758  , 203.5625  ],\n",
       "        [157.23438 , 179.0758  , 203.5625  ],\n",
       "        [159.91577 , 182.10071 , 205.39148 ],\n",
       "        [164.79309 , 186.53125 , 210.14465 ],\n",
       "        [163.77759 , 185.31726 , 209.12915 ],\n",
       "        [158.56775 , 179.90894 , 203.91931 ],\n",
       "        [161.97083 , 183.11353 , 207.32239 ],\n",
       "        [161.38171 , 182.32593 , 206.73328 ],\n",
       "        [161.96521 , 182.71094 , 207.31677 ],\n",
       "        [161.5625  , 182.10974 , 206.91406 ],\n",
       "        [167.39343 , 187.21313 , 211.17468 ],\n",
       "        [161.53076 , 179.88232 , 203.53076 ],\n",
       "        [152.92566 , 171.27722 , 194.92566 ],\n",
       "        [140.47083 , 158.82239 , 182.47083 ],\n",
       "        [145.92859 , 165.96692 , 185.81873 ],\n",
       "        [149.70312 , 170.35156 , 189.46875 ],\n",
       "        [155.67505 , 176.32349 , 195.44067 ],\n",
       "        [157.52026 , 178.1687  , 197.28589 ],\n",
       "        [157.0238  , 178.74255 , 197.29895 ],\n",
       "        [159.03125 , 181.79675 , 200.32812 ],\n",
       "        [162.64844 , 184.64844 , 207.41406 ],\n",
       "        [161.04822 , 182.97925 , 207.07812 ],\n",
       "        [144.00049 , 165.9867  , 189.91272 ],\n",
       "        [165.77344 , 187.77344 , 210.77344 ],\n",
       "        [166.73474 , 187.73474 , 216.73474 ],\n",
       "        [165.67615 , 187.37927 , 212.2699  ],\n",
       "        [160.35156 , 182.35156 , 203.35156 ],\n",
       "        [156.32239 , 178.32239 , 202.32239 ],\n",
       "        [160.95056 , 182.95056 , 206.95056 ],\n",
       "        [157.37561 , 179.37561 , 203.37561 ],\n",
       "        [154.76184 , 176.76184 , 200.76184 ],\n",
       "        [160.27344 , 182.27344 , 206.27344 ],\n",
       "        [156.0055  , 178.0055  , 202.0055  ],\n",
       "        [158.      , 180.      , 204.      ],\n",
       "        [156.      , 178.      , 202.      ],\n",
       "        [154.53125 , 177.      , 201.05493 ],\n",
       "        [155.67188 , 176.32812 , 200.03845 ],\n",
       "        [154.6875  , 172.6875  , 194.6875  ],\n",
       "        [132.72656 , 149.72656 , 168.87134 ],\n",
       "        [149.65515 , 170.65515 , 189.88953 ],\n",
       "        [146.0824  , 167.0824  , 186.31677 ],\n",
       "        [144.41443 , 165.41443 , 184.6488  ],\n",
       "        [142.79407 , 163.79407 , 183.02844 ],\n",
       "        [139.87085 , 161.10156 , 179.95862 ],\n",
       "        [137.96094 , 157.19531 , 174.19531 ],\n",
       "        [137.34375 , 155.46094 , 169.57812 ],\n",
       "        [130.38281 , 146.38281 , 159.61719 ],\n",
       "        [129.11719 , 146.11719 , 162.26733 ],\n",
       "        [125.02344 , 141.02344 , 156.54065 ],\n",
       "        [125.546875, 137.71716 , 152.75781 ],\n",
       "        [122.52344 , 132.75781 , 144.90796 ],\n",
       "        [114.99243 , 133.99243 , 140.25806 ],\n",
       "        [125.128296, 127.6875  , 147.07361 ],\n",
       "        [ 22.928345,  37.436157,  47.567627],\n",
       "        [ 34.45862 ,  52.62085 ,  51.93335 ],\n",
       "        [ 52.76599 ,  52.302856,  47.32727 ],\n",
       "        [ 93.66443 , 102.234375, 114.95166 ],\n",
       "        [ 83.63489 ,  86.67749 , 100.81604 ],\n",
       "        [ 78.58264 ,  81.35156 ,  81.04797 ],\n",
       "        [ 45.108887,  57.789062,  59.595825],\n",
       "        [ 41.627563,  49.76306 ,  51.76306 ],\n",
       "        [ 53.828735,  59.485596,  59.117188],\n",
       "        [ 37.710693,  41.296875,  39.883057],\n",
       "        [ 40.08252 ,  44.64502 ,  44.083374],\n",
       "        [ 52.557007,  65.88513 ,  71.82031 ],\n",
       "        [ 71.17651 ,  95.00549 , 104.953125],\n",
       "        [ 78.578125, 104.578125, 121.296875],\n",
       "        [ 84.46875 , 106.      , 129.35156 ],\n",
       "        [ 79.234375, 107.      , 129.11719 ],\n",
       "        [ 81.8125  , 109.578125, 131.69531 ],\n",
       "        [ 82.11719 , 109.88281 , 132.      ],\n",
       "        [ 82.07141 , 109.92859 , 132.      ],\n",
       "        [ 76.11719 , 108.      , 130.76562 ],\n",
       "        [ 74.897705, 104.91406 , 128.11792 ],\n",
       "        [ 73.13782 , 104.13782 , 125.13782 ],\n",
       "        [ 79.65027 , 107.99634 , 129.01196 ],\n",
       "        [105.27344 , 131.11719 , 156.35156 ],\n",
       "        [ 97.92969 , 128.41406 , 149.92969 ],\n",
       "        [ 99.96875 , 125.765625, 147.5     ],\n",
       "        [ 99.54993 , 116.26868 , 138.9093  ],\n",
       "        [104.42969 , 126.546875, 140.78125 ]]], dtype=float32)"
      ]
     },
     "execution_count": 19,
     "metadata": {},
     "output_type": "execute_result"
    }
   ],
   "source": [
    "img, label = process_image(\"datasets\\\\dog\\\\dog.4019.jpg\")\n",
    "img.numpy()[:2]"
   ]
  },
  {
   "cell_type": "code",
   "execution_count": 20,
   "metadata": {},
   "outputs": [],
   "source": [
    "train_ds = train_ds.map(process_image)\n",
    "test_ds = test_ds.map(process_image)"
   ]
  },
  {
   "cell_type": "code",
   "execution_count": 21,
   "metadata": {},
   "outputs": [
    {
     "name": "stdout",
     "output_type": "stream",
     "text": [
      "**** tf.Tensor(\n",
      "[[[ 73.831696  212.90982   238.37076  ]\n",
      "  [ 67.796875  210.26562   236.64844  ]\n",
      "  [ 62.492188  210.57812   234.88281  ]\n",
      "  ...\n",
      "  [ 93.04297   217.04297   242.4336   ]\n",
      "  [ 96.256805  216.2568    240.874    ]\n",
      "  [ 97.07779   213.07779   238.07779  ]]\n",
      "\n",
      " [[ 79.8125    217.8125    243.8125   ]\n",
      "  [ 73.74307   214.11719   241.18448  ]\n",
      "  [ 69.5809    214.5664    240.04688  ]\n",
      "  ...\n",
      "  [ 83.24548   208.98767   233.62943  ]\n",
      "  [ 74.72922   196.31516   220.24786  ]\n",
      "  [ 91.38861   210.48337   234.48337  ]]\n",
      "\n",
      " [[ 81.578094  217.5781    243.5781   ]\n",
      "  [ 73.89401   211.0151    239.30807  ]\n",
      "  [ 74.01895   212.73438   240.33203  ]\n",
      "  ...\n",
      "  [ 85.922455  217.31308   240.00839  ]\n",
      "  [ 82.74835   208.36554   230.98273  ]\n",
      "  [ 93.18582   212.85992   236.85992  ]]\n",
      "\n",
      " ...\n",
      "\n",
      " [[  3.3576965 187.73883   215.1529   ]\n",
      "  [  5.7427063 190.44974   217.8638   ]\n",
      "  [  9.978149  194.68518   222.68518  ]\n",
      "  ...\n",
      "  [ 12.34317   197.98944   225.77402  ]\n",
      "  [  9.809723  197.80972   224.80972  ]\n",
      "  [  5.1579285 194.        223.       ]]\n",
      "\n",
      " [[ 11.016632  195.19241   223.19241  ]\n",
      "  [  7.765625  191.9414    220.29297  ]\n",
      "  [  7.3973083 191.57309   219.92465  ]\n",
      "  ...\n",
      "  [  2.7488708 191.25113   218.       ]\n",
      "  [  3.3828125 193.38281   219.38281  ]\n",
      "  [  3.1757812 193.82422   222.       ]]\n",
      "\n",
      " [[ 18.704132  191.46094   219.01205  ]\n",
      "  [ 14.567413  187.86038   217.7432   ]\n",
      "  [ 13.905701  188.50781   217.73605  ]\n",
      "  ...\n",
      "  [  2.        192.        218.       ]\n",
      "  [  2.3828125 193.38281   219.38281  ]\n",
      "  [  1.0631714 194.96841   222.       ]]], shape=(128, 128, 3), dtype=float32)\n",
      "**** tf.Tensor(b'dog', shape=(), dtype=string)\n"
     ]
    }
   ],
   "source": [
    "for image, label in train_ds.take(1):\n",
    "    print(\"****\",image)\n",
    "    print(\"****\",label)"
   ]
  },
  {
   "cell_type": "code",
   "execution_count": 22,
   "metadata": {},
   "outputs": [],
   "source": [
    "# scaling images\n",
    "def scale(image, label):\n",
    "    return image/255, label"
   ]
  },
  {
   "cell_type": "code",
   "execution_count": 25,
   "metadata": {},
   "outputs": [],
   "source": [
    "train_ds = train_ds.map(scale)"
   ]
  },
  {
   "cell_type": "code",
   "execution_count": 26,
   "metadata": {},
   "outputs": [
    {
     "name": "stdout",
     "output_type": "stream",
     "text": [
      "****Image:  [0.00229509 0.00190011 0.00191465]\n",
      "****Label:  b'cat'\n",
      "****Image:  [0.00203232 0.00201694 0.00213997]\n",
      "****Label:  b'dog'\n"
     ]
    },
    {
     "ename": "UnknownError",
     "evalue": "NewRandomAccessFile failed to Create/Open: datasets\\flower_photos\\daisy : Access is denied.\r\n; Input/output error\n\t [[{{node ReadFile}}]] [Op:IteratorGetNext]",
     "output_type": "error",
     "traceback": [
      "\u001b[1;31m---------------------------------------------------------------------------\u001b[0m",
      "\u001b[1;31mUnknownError\u001b[0m                              Traceback (most recent call last)",
      "\u001b[1;32m<ipython-input-26-3167e04c49de>\u001b[0m in \u001b[0;36m<module>\u001b[1;34m\u001b[0m\n\u001b[1;32m----> 1\u001b[1;33m \u001b[1;32mfor\u001b[0m \u001b[0mimage\u001b[0m\u001b[1;33m,\u001b[0m \u001b[0mlabel\u001b[0m \u001b[1;32min\u001b[0m \u001b[0mtrain_ds\u001b[0m\u001b[1;33m.\u001b[0m\u001b[0mtake\u001b[0m\u001b[1;33m(\u001b[0m\u001b[1;36m5\u001b[0m\u001b[1;33m)\u001b[0m\u001b[1;33m:\u001b[0m\u001b[1;33m\u001b[0m\u001b[1;33m\u001b[0m\u001b[0m\n\u001b[0m\u001b[0;32m      2\u001b[0m     \u001b[0mprint\u001b[0m\u001b[1;33m(\u001b[0m\u001b[1;34m\"****Image: \"\u001b[0m\u001b[1;33m,\u001b[0m\u001b[0mimage\u001b[0m\u001b[1;33m.\u001b[0m\u001b[0mnumpy\u001b[0m\u001b[1;33m(\u001b[0m\u001b[1;33m)\u001b[0m\u001b[1;33m[\u001b[0m\u001b[1;36m0\u001b[0m\u001b[1;33m]\u001b[0m\u001b[1;33m[\u001b[0m\u001b[1;36m0\u001b[0m\u001b[1;33m]\u001b[0m\u001b[1;33m)\u001b[0m\u001b[1;33m\u001b[0m\u001b[1;33m\u001b[0m\u001b[0m\n\u001b[0;32m      3\u001b[0m     \u001b[0mprint\u001b[0m\u001b[1;33m(\u001b[0m\u001b[1;34m\"****Label: \"\u001b[0m\u001b[1;33m,\u001b[0m\u001b[0mlabel\u001b[0m\u001b[1;33m.\u001b[0m\u001b[0mnumpy\u001b[0m\u001b[1;33m(\u001b[0m\u001b[1;33m)\u001b[0m\u001b[1;33m)\u001b[0m\u001b[1;33m\u001b[0m\u001b[1;33m\u001b[0m\u001b[0m\n",
      "\u001b[1;32m~\\Anaconda3\\lib\\site-packages\\tensorflow\\python\\data\\ops\\iterator_ops.py\u001b[0m in \u001b[0;36m__next__\u001b[1;34m(self)\u001b[0m\n\u001b[0;32m    759\u001b[0m   \u001b[1;32mdef\u001b[0m \u001b[0m__next__\u001b[0m\u001b[1;33m(\u001b[0m\u001b[0mself\u001b[0m\u001b[1;33m)\u001b[0m\u001b[1;33m:\u001b[0m\u001b[1;33m\u001b[0m\u001b[1;33m\u001b[0m\u001b[0m\n\u001b[0;32m    760\u001b[0m     \u001b[1;32mtry\u001b[0m\u001b[1;33m:\u001b[0m\u001b[1;33m\u001b[0m\u001b[1;33m\u001b[0m\u001b[0m\n\u001b[1;32m--> 761\u001b[1;33m       \u001b[1;32mreturn\u001b[0m \u001b[0mself\u001b[0m\u001b[1;33m.\u001b[0m\u001b[0m_next_internal\u001b[0m\u001b[1;33m(\u001b[0m\u001b[1;33m)\u001b[0m\u001b[1;33m\u001b[0m\u001b[1;33m\u001b[0m\u001b[0m\n\u001b[0m\u001b[0;32m    762\u001b[0m     \u001b[1;32mexcept\u001b[0m \u001b[0merrors\u001b[0m\u001b[1;33m.\u001b[0m\u001b[0mOutOfRangeError\u001b[0m\u001b[1;33m:\u001b[0m\u001b[1;33m\u001b[0m\u001b[1;33m\u001b[0m\u001b[0m\n\u001b[0;32m    763\u001b[0m       \u001b[1;32mraise\u001b[0m \u001b[0mStopIteration\u001b[0m\u001b[1;33m\u001b[0m\u001b[1;33m\u001b[0m\u001b[0m\n",
      "\u001b[1;32m~\\Anaconda3\\lib\\site-packages\\tensorflow\\python\\data\\ops\\iterator_ops.py\u001b[0m in \u001b[0;36m_next_internal\u001b[1;34m(self)\u001b[0m\n\u001b[0;32m    745\u001b[0m           \u001b[0mself\u001b[0m\u001b[1;33m.\u001b[0m\u001b[0m_iterator_resource\u001b[0m\u001b[1;33m,\u001b[0m\u001b[1;33m\u001b[0m\u001b[1;33m\u001b[0m\u001b[0m\n\u001b[0;32m    746\u001b[0m           \u001b[0moutput_types\u001b[0m\u001b[1;33m=\u001b[0m\u001b[0mself\u001b[0m\u001b[1;33m.\u001b[0m\u001b[0m_flat_output_types\u001b[0m\u001b[1;33m,\u001b[0m\u001b[1;33m\u001b[0m\u001b[1;33m\u001b[0m\u001b[0m\n\u001b[1;32m--> 747\u001b[1;33m           output_shapes=self._flat_output_shapes)\n\u001b[0m\u001b[0;32m    748\u001b[0m \u001b[1;33m\u001b[0m\u001b[0m\n\u001b[0;32m    749\u001b[0m       \u001b[1;32mtry\u001b[0m\u001b[1;33m:\u001b[0m\u001b[1;33m\u001b[0m\u001b[1;33m\u001b[0m\u001b[0m\n",
      "\u001b[1;32m~\\Anaconda3\\lib\\site-packages\\tensorflow\\python\\ops\\gen_dataset_ops.py\u001b[0m in \u001b[0;36miterator_get_next\u001b[1;34m(iterator, output_types, output_shapes, name)\u001b[0m\n\u001b[0;32m   2725\u001b[0m       \u001b[1;32mreturn\u001b[0m \u001b[0m_result\u001b[0m\u001b[1;33m\u001b[0m\u001b[1;33m\u001b[0m\u001b[0m\n\u001b[0;32m   2726\u001b[0m     \u001b[1;32mexcept\u001b[0m \u001b[0m_core\u001b[0m\u001b[1;33m.\u001b[0m\u001b[0m_NotOkStatusException\u001b[0m \u001b[1;32mas\u001b[0m \u001b[0me\u001b[0m\u001b[1;33m:\u001b[0m\u001b[1;33m\u001b[0m\u001b[1;33m\u001b[0m\u001b[0m\n\u001b[1;32m-> 2727\u001b[1;33m       \u001b[0m_ops\u001b[0m\u001b[1;33m.\u001b[0m\u001b[0mraise_from_not_ok_status\u001b[0m\u001b[1;33m(\u001b[0m\u001b[0me\u001b[0m\u001b[1;33m,\u001b[0m \u001b[0mname\u001b[0m\u001b[1;33m)\u001b[0m\u001b[1;33m\u001b[0m\u001b[1;33m\u001b[0m\u001b[0m\n\u001b[0m\u001b[0;32m   2728\u001b[0m     \u001b[1;32mexcept\u001b[0m \u001b[0m_core\u001b[0m\u001b[1;33m.\u001b[0m\u001b[0m_FallbackException\u001b[0m\u001b[1;33m:\u001b[0m\u001b[1;33m\u001b[0m\u001b[1;33m\u001b[0m\u001b[0m\n\u001b[0;32m   2729\u001b[0m       \u001b[1;32mpass\u001b[0m\u001b[1;33m\u001b[0m\u001b[1;33m\u001b[0m\u001b[0m\n",
      "\u001b[1;32m~\\Anaconda3\\lib\\site-packages\\tensorflow\\python\\framework\\ops.py\u001b[0m in \u001b[0;36mraise_from_not_ok_status\u001b[1;34m(e, name)\u001b[0m\n\u001b[0;32m   6939\u001b[0m   \u001b[0mmessage\u001b[0m \u001b[1;33m=\u001b[0m \u001b[0me\u001b[0m\u001b[1;33m.\u001b[0m\u001b[0mmessage\u001b[0m \u001b[1;33m+\u001b[0m \u001b[1;33m(\u001b[0m\u001b[1;34m\" name: \"\u001b[0m \u001b[1;33m+\u001b[0m \u001b[0mname\u001b[0m \u001b[1;32mif\u001b[0m \u001b[0mname\u001b[0m \u001b[1;32mis\u001b[0m \u001b[1;32mnot\u001b[0m \u001b[1;32mNone\u001b[0m \u001b[1;32melse\u001b[0m \u001b[1;34m\"\"\u001b[0m\u001b[1;33m)\u001b[0m\u001b[1;33m\u001b[0m\u001b[1;33m\u001b[0m\u001b[0m\n\u001b[0;32m   6940\u001b[0m   \u001b[1;31m# pylint: disable=protected-access\u001b[0m\u001b[1;33m\u001b[0m\u001b[1;33m\u001b[0m\u001b[1;33m\u001b[0m\u001b[0m\n\u001b[1;32m-> 6941\u001b[1;33m   \u001b[0msix\u001b[0m\u001b[1;33m.\u001b[0m\u001b[0mraise_from\u001b[0m\u001b[1;33m(\u001b[0m\u001b[0mcore\u001b[0m\u001b[1;33m.\u001b[0m\u001b[0m_status_to_exception\u001b[0m\u001b[1;33m(\u001b[0m\u001b[0me\u001b[0m\u001b[1;33m.\u001b[0m\u001b[0mcode\u001b[0m\u001b[1;33m,\u001b[0m \u001b[0mmessage\u001b[0m\u001b[1;33m)\u001b[0m\u001b[1;33m,\u001b[0m \u001b[1;32mNone\u001b[0m\u001b[1;33m)\u001b[0m\u001b[1;33m\u001b[0m\u001b[1;33m\u001b[0m\u001b[0m\n\u001b[0m\u001b[0;32m   6942\u001b[0m   \u001b[1;31m# pylint: enable=protected-access\u001b[0m\u001b[1;33m\u001b[0m\u001b[1;33m\u001b[0m\u001b[1;33m\u001b[0m\u001b[0m\n\u001b[0;32m   6943\u001b[0m \u001b[1;33m\u001b[0m\u001b[0m\n",
      "\u001b[1;32m~\\Anaconda3\\lib\\site-packages\\six.py\u001b[0m in \u001b[0;36mraise_from\u001b[1;34m(value, from_value)\u001b[0m\n",
      "\u001b[1;31mUnknownError\u001b[0m: NewRandomAccessFile failed to Create/Open: datasets\\flower_photos\\daisy : Access is denied.\r\n; Input/output error\n\t [[{{node ReadFile}}]] [Op:IteratorGetNext]"
     ]
    }
   ],
   "source": [
    "for image, label in train_ds.take(5):\n",
    "    print(\"****Image: \",image.numpy()[0][0])\n",
    "    print(\"****Label: \",label.numpy())"
   ]
  },
  {
   "cell_type": "code",
   "execution_count": 27,
   "metadata": {},
   "outputs": [
    {
     "name": "stdout",
     "output_type": "stream",
     "text": [
      "****Image:  [0.00273656 0.00236173 0.00260101]\n",
      "****Label:  b'cat'\n",
      "****Image:  [0.00273849 0.00332715 0.003334  ]\n",
      "****Label:  b'dog'\n",
      "****Image:  [0.00139033 0.0012343  0.00095224]\n",
      "****Label:  b'dog'\n",
      "****Image:  [0.00226404 0.00229336 0.00214942]\n",
      "****Label:  b'cat'\n",
      "****Image:  [0.00012357 0.00015433 0.00013895]\n",
      "****Label:  b'cat'\n",
      "****Image:  [0.000885   0.0012172  0.00158262]\n",
      "****Label:  b'cat'\n"
     ]
    },
    {
     "ename": "UnknownError",
     "evalue": "NewRandomAccessFile failed to Create/Open: datasets\\flower_photos\\tulips : Access is denied.\r\n; Input/output error\n\t [[{{node ReadFile}}]] [Op:IteratorGetNext]",
     "output_type": "error",
     "traceback": [
      "\u001b[1;31m---------------------------------------------------------------------------\u001b[0m",
      "\u001b[1;31mUnknownError\u001b[0m                              Traceback (most recent call last)",
      "\u001b[1;32m<ipython-input-27-5ae48a742ad0>\u001b[0m in \u001b[0;36m<module>\u001b[1;34m\u001b[0m\n\u001b[1;32m----> 1\u001b[1;33m \u001b[1;32mfor\u001b[0m \u001b[0mimage\u001b[0m\u001b[1;33m,\u001b[0m \u001b[0mlabel\u001b[0m \u001b[1;32min\u001b[0m \u001b[0mtrain_ds\u001b[0m\u001b[1;33m.\u001b[0m\u001b[0mtake\u001b[0m\u001b[1;33m(\u001b[0m\u001b[1;36m10\u001b[0m\u001b[1;33m)\u001b[0m\u001b[1;33m:\u001b[0m\u001b[1;33m\u001b[0m\u001b[1;33m\u001b[0m\u001b[0m\n\u001b[0m\u001b[0;32m      2\u001b[0m     \u001b[0mprint\u001b[0m\u001b[1;33m(\u001b[0m\u001b[1;34m\"****Image: \"\u001b[0m\u001b[1;33m,\u001b[0m\u001b[0mimage\u001b[0m\u001b[1;33m.\u001b[0m\u001b[0mnumpy\u001b[0m\u001b[1;33m(\u001b[0m\u001b[1;33m)\u001b[0m\u001b[1;33m[\u001b[0m\u001b[1;36m0\u001b[0m\u001b[1;33m]\u001b[0m\u001b[1;33m[\u001b[0m\u001b[1;36m0\u001b[0m\u001b[1;33m]\u001b[0m\u001b[1;33m)\u001b[0m\u001b[1;33m\u001b[0m\u001b[1;33m\u001b[0m\u001b[0m\n\u001b[0;32m      3\u001b[0m     \u001b[0mprint\u001b[0m\u001b[1;33m(\u001b[0m\u001b[1;34m\"****Label: \"\u001b[0m\u001b[1;33m,\u001b[0m\u001b[0mlabel\u001b[0m\u001b[1;33m.\u001b[0m\u001b[0mnumpy\u001b[0m\u001b[1;33m(\u001b[0m\u001b[1;33m)\u001b[0m\u001b[1;33m)\u001b[0m\u001b[1;33m\u001b[0m\u001b[1;33m\u001b[0m\u001b[0m\n",
      "\u001b[1;32m~\\Anaconda3\\lib\\site-packages\\tensorflow\\python\\data\\ops\\iterator_ops.py\u001b[0m in \u001b[0;36m__next__\u001b[1;34m(self)\u001b[0m\n\u001b[0;32m    759\u001b[0m   \u001b[1;32mdef\u001b[0m \u001b[0m__next__\u001b[0m\u001b[1;33m(\u001b[0m\u001b[0mself\u001b[0m\u001b[1;33m)\u001b[0m\u001b[1;33m:\u001b[0m\u001b[1;33m\u001b[0m\u001b[1;33m\u001b[0m\u001b[0m\n\u001b[0;32m    760\u001b[0m     \u001b[1;32mtry\u001b[0m\u001b[1;33m:\u001b[0m\u001b[1;33m\u001b[0m\u001b[1;33m\u001b[0m\u001b[0m\n\u001b[1;32m--> 761\u001b[1;33m       \u001b[1;32mreturn\u001b[0m \u001b[0mself\u001b[0m\u001b[1;33m.\u001b[0m\u001b[0m_next_internal\u001b[0m\u001b[1;33m(\u001b[0m\u001b[1;33m)\u001b[0m\u001b[1;33m\u001b[0m\u001b[1;33m\u001b[0m\u001b[0m\n\u001b[0m\u001b[0;32m    762\u001b[0m     \u001b[1;32mexcept\u001b[0m \u001b[0merrors\u001b[0m\u001b[1;33m.\u001b[0m\u001b[0mOutOfRangeError\u001b[0m\u001b[1;33m:\u001b[0m\u001b[1;33m\u001b[0m\u001b[1;33m\u001b[0m\u001b[0m\n\u001b[0;32m    763\u001b[0m       \u001b[1;32mraise\u001b[0m \u001b[0mStopIteration\u001b[0m\u001b[1;33m\u001b[0m\u001b[1;33m\u001b[0m\u001b[0m\n",
      "\u001b[1;32m~\\Anaconda3\\lib\\site-packages\\tensorflow\\python\\data\\ops\\iterator_ops.py\u001b[0m in \u001b[0;36m_next_internal\u001b[1;34m(self)\u001b[0m\n\u001b[0;32m    745\u001b[0m           \u001b[0mself\u001b[0m\u001b[1;33m.\u001b[0m\u001b[0m_iterator_resource\u001b[0m\u001b[1;33m,\u001b[0m\u001b[1;33m\u001b[0m\u001b[1;33m\u001b[0m\u001b[0m\n\u001b[0;32m    746\u001b[0m           \u001b[0moutput_types\u001b[0m\u001b[1;33m=\u001b[0m\u001b[0mself\u001b[0m\u001b[1;33m.\u001b[0m\u001b[0m_flat_output_types\u001b[0m\u001b[1;33m,\u001b[0m\u001b[1;33m\u001b[0m\u001b[1;33m\u001b[0m\u001b[0m\n\u001b[1;32m--> 747\u001b[1;33m           output_shapes=self._flat_output_shapes)\n\u001b[0m\u001b[0;32m    748\u001b[0m \u001b[1;33m\u001b[0m\u001b[0m\n\u001b[0;32m    749\u001b[0m       \u001b[1;32mtry\u001b[0m\u001b[1;33m:\u001b[0m\u001b[1;33m\u001b[0m\u001b[1;33m\u001b[0m\u001b[0m\n",
      "\u001b[1;32m~\\Anaconda3\\lib\\site-packages\\tensorflow\\python\\ops\\gen_dataset_ops.py\u001b[0m in \u001b[0;36miterator_get_next\u001b[1;34m(iterator, output_types, output_shapes, name)\u001b[0m\n\u001b[0;32m   2725\u001b[0m       \u001b[1;32mreturn\u001b[0m \u001b[0m_result\u001b[0m\u001b[1;33m\u001b[0m\u001b[1;33m\u001b[0m\u001b[0m\n\u001b[0;32m   2726\u001b[0m     \u001b[1;32mexcept\u001b[0m \u001b[0m_core\u001b[0m\u001b[1;33m.\u001b[0m\u001b[0m_NotOkStatusException\u001b[0m \u001b[1;32mas\u001b[0m \u001b[0me\u001b[0m\u001b[1;33m:\u001b[0m\u001b[1;33m\u001b[0m\u001b[1;33m\u001b[0m\u001b[0m\n\u001b[1;32m-> 2727\u001b[1;33m       \u001b[0m_ops\u001b[0m\u001b[1;33m.\u001b[0m\u001b[0mraise_from_not_ok_status\u001b[0m\u001b[1;33m(\u001b[0m\u001b[0me\u001b[0m\u001b[1;33m,\u001b[0m \u001b[0mname\u001b[0m\u001b[1;33m)\u001b[0m\u001b[1;33m\u001b[0m\u001b[1;33m\u001b[0m\u001b[0m\n\u001b[0m\u001b[0;32m   2728\u001b[0m     \u001b[1;32mexcept\u001b[0m \u001b[0m_core\u001b[0m\u001b[1;33m.\u001b[0m\u001b[0m_FallbackException\u001b[0m\u001b[1;33m:\u001b[0m\u001b[1;33m\u001b[0m\u001b[1;33m\u001b[0m\u001b[0m\n\u001b[0;32m   2729\u001b[0m       \u001b[1;32mpass\u001b[0m\u001b[1;33m\u001b[0m\u001b[1;33m\u001b[0m\u001b[0m\n",
      "\u001b[1;32m~\\Anaconda3\\lib\\site-packages\\tensorflow\\python\\framework\\ops.py\u001b[0m in \u001b[0;36mraise_from_not_ok_status\u001b[1;34m(e, name)\u001b[0m\n\u001b[0;32m   6939\u001b[0m   \u001b[0mmessage\u001b[0m \u001b[1;33m=\u001b[0m \u001b[0me\u001b[0m\u001b[1;33m.\u001b[0m\u001b[0mmessage\u001b[0m \u001b[1;33m+\u001b[0m \u001b[1;33m(\u001b[0m\u001b[1;34m\" name: \"\u001b[0m \u001b[1;33m+\u001b[0m \u001b[0mname\u001b[0m \u001b[1;32mif\u001b[0m \u001b[0mname\u001b[0m \u001b[1;32mis\u001b[0m \u001b[1;32mnot\u001b[0m \u001b[1;32mNone\u001b[0m \u001b[1;32melse\u001b[0m \u001b[1;34m\"\"\u001b[0m\u001b[1;33m)\u001b[0m\u001b[1;33m\u001b[0m\u001b[1;33m\u001b[0m\u001b[0m\n\u001b[0;32m   6940\u001b[0m   \u001b[1;31m# pylint: disable=protected-access\u001b[0m\u001b[1;33m\u001b[0m\u001b[1;33m\u001b[0m\u001b[1;33m\u001b[0m\u001b[0m\n\u001b[1;32m-> 6941\u001b[1;33m   \u001b[0msix\u001b[0m\u001b[1;33m.\u001b[0m\u001b[0mraise_from\u001b[0m\u001b[1;33m(\u001b[0m\u001b[0mcore\u001b[0m\u001b[1;33m.\u001b[0m\u001b[0m_status_to_exception\u001b[0m\u001b[1;33m(\u001b[0m\u001b[0me\u001b[0m\u001b[1;33m.\u001b[0m\u001b[0mcode\u001b[0m\u001b[1;33m,\u001b[0m \u001b[0mmessage\u001b[0m\u001b[1;33m)\u001b[0m\u001b[1;33m,\u001b[0m \u001b[1;32mNone\u001b[0m\u001b[1;33m)\u001b[0m\u001b[1;33m\u001b[0m\u001b[1;33m\u001b[0m\u001b[0m\n\u001b[0m\u001b[0;32m   6942\u001b[0m   \u001b[1;31m# pylint: enable=protected-access\u001b[0m\u001b[1;33m\u001b[0m\u001b[1;33m\u001b[0m\u001b[1;33m\u001b[0m\u001b[0m\n\u001b[0;32m   6943\u001b[0m \u001b[1;33m\u001b[0m\u001b[0m\n",
      "\u001b[1;32m~\\Anaconda3\\lib\\site-packages\\six.py\u001b[0m in \u001b[0;36mraise_from\u001b[1;34m(value, from_value)\u001b[0m\n",
      "\u001b[1;31mUnknownError\u001b[0m: NewRandomAccessFile failed to Create/Open: datasets\\flower_photos\\tulips : Access is denied.\r\n; Input/output error\n\t [[{{node ReadFile}}]] [Op:IteratorGetNext]"
     ]
    }
   ],
   "source": [
    "for image, label in train_ds.take(10):\n",
    "    print(\"****Image: \",image.numpy()[0][0])\n",
    "    print(\"****Label: \",label.numpy())"
   ]
  },
  {
   "cell_type": "code",
   "execution_count": null,
   "metadata": {},
   "outputs": [],
   "source": []
  }
 ],
 "metadata": {
  "kernelspec": {
   "display_name": "Python 3",
   "language": "python",
   "name": "python3"
  },
  "language_info": {
   "codemirror_mode": {
    "name": "ipython",
    "version": 3
   },
   "file_extension": ".py",
   "mimetype": "text/x-python",
   "name": "python",
   "nbconvert_exporter": "python",
   "pygments_lexer": "ipython3",
   "version": "3.7.4"
  }
 },
 "nbformat": 4,
 "nbformat_minor": 2
}
