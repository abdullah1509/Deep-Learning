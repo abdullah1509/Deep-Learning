{
 "cells": [
  {
   "cell_type": "code",
   "execution_count": 1,
   "metadata": {},
   "outputs": [],
   "source": [
    "# ignore msg from tensorflow\n",
    "import os\n",
    "os.environ['TF_CP_MIN_LOG_LEVEL'] = '2'"
   ]
  },
  {
   "cell_type": "code",
   "execution_count": 2,
   "metadata": {},
   "outputs": [],
   "source": [
    "import tensorflow as tf\n",
    "from tensorflow import keras\n",
    "from tensorflow.keras import layers\n",
    "# load cifar10 dataset\n",
    "from tensorflow.keras.datasets import cifar10"
   ]
  },
  {
   "cell_type": "code",
   "execution_count": 10,
   "metadata": {},
   "outputs": [],
   "source": [
    "(x_train, y_train), (x_test, y_test) = cifar10.load_data()\n",
    "\n",
    "# normalize data\n",
    "x_train = x_train.astype(\"float32\") / 255.0\n",
    "x_test = x_test.astype(\"float32\") / 255.0"
   ]
  },
  {
   "cell_type": "code",
   "execution_count": 11,
   "metadata": {},
   "outputs": [],
   "source": [
    "# building model\n",
    "model= keras.Sequential([\n",
    "    keras.Input(shape=(32, 32, 3)), # height, width, 3 is for rgb\n",
    "    layers.Conv2D(32, 3, padding='valid', activation='relu'), # 1st parameter is how many channel we want, kernel size\n",
    "    layers.MaxPooling2D(pool_size=(2, 2)),\n",
    "    \n",
    "    layers.Conv2D(64, 3, activation='relu'),\n",
    "    layers.MaxPooling2D(),\n",
    "    \n",
    "    layers.Conv2D(128, 3, activation='relu'),\n",
    "    layers.Flatten(),\n",
    "    layers.Dense(64, activation='relu'),\n",
    "    layers.Dense(10)\n",
    "])"
   ]
  },
  {
   "cell_type": "code",
   "execution_count": 36,
   "metadata": {},
   "outputs": [
    {
     "data": {
      "text/plain": [
       "<bound method Model.summary of <keras.engine.functional.Functional object at 0x000000CFA3BC27C8>>"
      ]
     },
     "execution_count": 36,
     "metadata": {},
     "output_type": "execute_result"
    }
   ],
   "source": [
    "model.summary"
   ]
  },
  {
   "cell_type": "code",
   "execution_count": 13,
   "metadata": {},
   "outputs": [],
   "source": [
    "model.compile(\n",
    "    loss=keras.losses.SparseCategoricalCrossentropy(from_logits=True),\n",
    "    optimizer=keras.optimizers.Adam(learning_rate=3e-4),\n",
    "    metrics=[\"accuracy\"],\n",
    ")"
   ]
  },
  {
   "cell_type": "code",
   "execution_count": 14,
   "metadata": {},
   "outputs": [
    {
     "name": "stdout",
     "output_type": "stream",
     "text": [
      "Epoch 1/10\n",
      "782/782 - 106s - loss: 1.6707 - accuracy: 0.3860\n",
      "Epoch 2/10\n",
      "782/782 - 102s - loss: 1.3192 - accuracy: 0.5274\n",
      "Epoch 3/10\n",
      "782/782 - 100s - loss: 1.1880 - accuracy: 0.5811\n",
      "Epoch 4/10\n",
      "782/782 - 103s - loss: 1.0912 - accuracy: 0.6172\n",
      "Epoch 5/10\n",
      "782/782 - 98s - loss: 1.0205 - accuracy: 0.6432\n",
      "Epoch 6/10\n",
      "782/782 - 96s - loss: 0.9634 - accuracy: 0.6663\n",
      "Epoch 7/10\n",
      "782/782 - 97s - loss: 0.9092 - accuracy: 0.6848\n",
      "Epoch 8/10\n",
      "782/782 - 98s - loss: 0.8701 - accuracy: 0.6964\n",
      "Epoch 9/10\n",
      "782/782 - 96s - loss: 0.8258 - accuracy: 0.7162\n",
      "Epoch 10/10\n",
      "782/782 - 97s - loss: 0.7866 - accuracy: 0.7281\n"
     ]
    },
    {
     "data": {
      "text/plain": [
       "<keras.callbacks.History at 0xcf9d08e908>"
      ]
     },
     "execution_count": 14,
     "metadata": {},
     "output_type": "execute_result"
    }
   ],
   "source": [
    "# train model\n",
    "model.fit(x_train, y_train, batch_size=64, epochs=10, verbose=2)"
   ]
  },
  {
   "cell_type": "code",
   "execution_count": 15,
   "metadata": {},
   "outputs": [
    {
     "name": "stdout",
     "output_type": "stream",
     "text": [
      "157/157 - 6s - loss: 0.8778 - accuracy: 0.6974\n"
     ]
    },
    {
     "data": {
      "text/plain": [
       "[0.8778068423271179, 0.6973999738693237]"
      ]
     },
     "execution_count": 15,
     "metadata": {},
     "output_type": "execute_result"
    }
   ],
   "source": [
    "# model accuracy\n",
    "model.evaluate(x_test, y_test, batch_size=64, verbose=2)"
   ]
  },
  {
   "cell_type": "code",
   "execution_count": 37,
   "metadata": {},
   "outputs": [
    {
     "name": "stdout",
     "output_type": "stream",
     "text": [
      "<bound method Model.summary of <keras.engine.functional.Functional object at 0x000000CFA3BC27C8>>\n"
     ]
    }
   ],
   "source": [
    "print(model.summary)"
   ]
  },
  {
   "cell_type": "markdown",
   "metadata": {},
   "source": [
    "### User defined convolutional model"
   ]
  },
  {
   "cell_type": "code",
   "execution_count": 29,
   "metadata": {},
   "outputs": [],
   "source": [
    "def my_model():\n",
    "    inputs = keras.Input(shape=(32, 32, 3))\n",
    "    x = layers.Conv2D(32, 3)(inputs)\n",
    "    x = layers.BatchNormalization()(x)\n",
    "    x = keras.activations.relu(x)\n",
    "    x = layers.MaxPooling2D()(x)\n",
    "    \n",
    "    x = layers.Conv2D(64, 3)(x)\n",
    "    x = layers.BatchNormalization()(x)\n",
    "    x = keras.activations.relu(x)\n",
    "    x = layers.MaxPooling2D()(x)\n",
    "    \n",
    "    x = layers.Conv2D(128, 3)(x)\n",
    "    x = layers.BatchNormalization()(x)\n",
    "    x = keras.activations.relu(x)\n",
    "    \n",
    "    x = layers.Flatten()(x)\n",
    "    x = layers.Dense(64, activation=\"relu\")(x)\n",
    "    \n",
    "    outputs = layers.Dense(10)(x)\n",
    "    model = keras.Model(inputs=inputs, outputs=outputs)\n",
    "    return model"
   ]
  },
  {
   "cell_type": "code",
   "execution_count": 30,
   "metadata": {},
   "outputs": [],
   "source": [
    "model= my_model()"
   ]
  },
  {
   "cell_type": "code",
   "execution_count": 32,
   "metadata": {},
   "outputs": [],
   "source": [
    "model.compile(\n",
    "    loss=keras.losses.SparseCategoricalCrossentropy(from_logits=True),\n",
    "    optimizer=keras.optimizers.Adam(learning_rate=3e-4),\n",
    "    metrics=[\"accuracy\"],\n",
    ")"
   ]
  },
  {
   "cell_type": "code",
   "execution_count": 33,
   "metadata": {},
   "outputs": [
    {
     "name": "stdout",
     "output_type": "stream",
     "text": [
      "Epoch 1/10\n",
      "782/782 - 153s - loss: 1.3748 - accuracy: 0.5099\n",
      "Epoch 2/10\n",
      "782/782 - 177s - loss: 0.9879 - accuracy: 0.6529\n",
      "Epoch 3/10\n",
      "782/782 - 177s - loss: 0.8281 - accuracy: 0.7102\n",
      "Epoch 4/10\n",
      "782/782 - 189s - loss: 0.7208 - accuracy: 0.7492\n",
      "Epoch 5/10\n",
      "782/782 - 160s - loss: 0.6362 - accuracy: 0.7806\n",
      "Epoch 6/10\n",
      "782/782 - 158s - loss: 0.5649 - accuracy: 0.8034\n",
      "Epoch 7/10\n",
      "782/782 - 188s - loss: 0.4974 - accuracy: 0.8297\n",
      "Epoch 8/10\n",
      "782/782 - 152s - loss: 0.4448 - accuracy: 0.8472\n",
      "Epoch 9/10\n",
      "782/782 - 136s - loss: 0.3890 - accuracy: 0.8674\n",
      "Epoch 10/10\n",
      "782/782 - 138s - loss: 0.3419 - accuracy: 0.8827\n"
     ]
    },
    {
     "data": {
      "text/plain": [
       "<keras.callbacks.History at 0xcf9e49cbc8>"
      ]
     },
     "execution_count": 33,
     "metadata": {},
     "output_type": "execute_result"
    }
   ],
   "source": [
    "# train model\n",
    "model.fit(x_train, y_train, batch_size=64, epochs=10, verbose=2)"
   ]
  },
  {
   "cell_type": "code",
   "execution_count": 34,
   "metadata": {},
   "outputs": [
    {
     "name": "stdout",
     "output_type": "stream",
     "text": [
      "157/157 - 8s - loss: 1.0504 - accuracy: 0.6797\n"
     ]
    },
    {
     "data": {
      "text/plain": [
       "[1.0503766536712646, 0.6797000169754028]"
      ]
     },
     "execution_count": 34,
     "metadata": {},
     "output_type": "execute_result"
    }
   ],
   "source": [
    "# model accuracy\n",
    "model.evaluate(x_test, y_test, batch_size=64, verbose=2)"
   ]
  },
  {
   "cell_type": "code",
   "execution_count": null,
   "metadata": {},
   "outputs": [],
   "source": []
  }
 ],
 "metadata": {
  "kernelspec": {
   "display_name": "Python 3",
   "language": "python",
   "name": "python3"
  },
  "language_info": {
   "codemirror_mode": {
    "name": "ipython",
    "version": 3
   },
   "file_extension": ".py",
   "mimetype": "text/x-python",
   "name": "python",
   "nbconvert_exporter": "python",
   "pygments_lexer": "ipython3",
   "version": "3.7.4"
  }
 },
 "nbformat": 4,
 "nbformat_minor": 2
}
