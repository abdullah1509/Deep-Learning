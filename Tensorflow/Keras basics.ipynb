{
 "cells": [
  {
   "cell_type": "code",
   "execution_count": 2,
   "metadata": {},
   "outputs": [
    {
     "name": "stderr",
     "output_type": "stream",
     "text": [
      "Using TensorFlow backend.\n"
     ]
    }
   ],
   "source": [
    "import warnings\n",
    "warnings.filterwarnings('ignore')\n",
    "\n",
    "import numpy as np\n",
    "np.random.seed(123) # for reproducibility\n",
    "\n",
    "from keras.models import Sequential\n",
    "from keras.layers import Flatten, MaxPool2D, Conv2D, Dense, Reshape, Dropout\n",
    "from keras.utils import np_utils\n",
    "from keras.datasets import mnist"
   ]
  },
  {
   "cell_type": "code",
   "execution_count": 3,
   "metadata": {},
   "outputs": [],
   "source": [
    "# Load pre-shuffled MNIST data into train and test sets and pre-process loaded data\n",
    "(X_train, y_train), (X_test, y_test) = mnist.load_data()\n",
    "X_train = X_train.reshape(X_train.shape[0], 28, 28, 1)\n",
    "X_test = X_test.reshape(X_test.shape[0], 28, 28, 1)\n",
    "X_train = X_train.astype('float32')\n",
    "X_test = X_test.astype('float32')\n",
    "X_train /= 255\n",
    "X_test /= 255\n",
    "Y_train = np_utils.to_categorical(y_train, 10)\n",
    "Y_test = np_utils.to_categorical(y_test, 10)"
   ]
  },
  {
   "cell_type": "code",
   "execution_count": 4,
   "metadata": {},
   "outputs": [],
   "source": [
    "# define model architecture\n",
    "model = Sequential()\n",
    "model.add(Conv2D(32, 3, 3, activation = 'relu', input_shape = (28,28,1)))\n",
    "model.add(Conv2D(32, 3, 3, activation = 'relu'))\n",
    "model.add(MaxPool2D(pool_size = (2,2)))\n",
    "model.add(Dropout(0.25))\n",
    "model.add(Flatten())\n",
    "model.add(Dense(128, activation = 'relu'))\n",
    "model.add(Dropout(0.5))\n",
    "model.add(Dense(10, activation = 'softmax'))"
   ]
  },
  {
   "cell_type": "code",
   "execution_count": 5,
   "metadata": {},
   "outputs": [],
   "source": [
    "# compile model\n",
    "model.compile(loss = 'categorical_crossentropy', optimizer = 'adam', metrics = ['accuracy'])"
   ]
  },
  {
   "cell_type": "code",
   "execution_count": 6,
   "metadata": {},
   "outputs": [
    {
     "name": "stdout",
     "output_type": "stream",
     "text": [
      "Epoch 1/10\n",
      "60000/60000 [==============================] - 146s 2ms/step - loss: 0.2126 - accuracy: 0.9347\n",
      "Epoch 2/10\n",
      "60000/60000 [==============================] - 145s 2ms/step - loss: 0.0889 - accuracy: 0.9734\n",
      "Epoch 3/10\n",
      "60000/60000 [==============================] - 146s 2ms/step - loss: 0.0692 - accuracy: 0.9794\n",
      "Epoch 4/10\n",
      "60000/60000 [==============================] - 146s 2ms/step - loss: 0.0565 - accuracy: 0.9828\n",
      "Epoch 5/10\n",
      "60000/60000 [==============================] - 145s 2ms/step - loss: 0.0481 - accuracy: 0.9855\n",
      "Epoch 6/10\n",
      "60000/60000 [==============================] - 144s 2ms/step - loss: 0.0421 - accuracy: 0.9870\n",
      "Epoch 7/10\n",
      "60000/60000 [==============================] - 144s 2ms/step - loss: 0.0372 - accuracy: 0.9882\n",
      "Epoch 8/10\n",
      "60000/60000 [==============================] - 144s 2ms/step - loss: 0.0345 - accuracy: 0.9891\n",
      "Epoch 9/10\n",
      "60000/60000 [==============================] - 149s 2ms/step - loss: 0.0327 - accuracy: 0.9896\n",
      "Epoch 10/10\n",
      "60000/60000 [==============================] - 143s 2ms/step - loss: 0.0292 - accuracy: 0.9907\n"
     ]
    },
    {
     "data": {
      "text/plain": [
       "<keras.callbacks.callbacks.History at 0xd2b7be5dc8>"
      ]
     },
     "execution_count": 6,
     "metadata": {},
     "output_type": "execute_result"
    }
   ],
   "source": [
    "# fit the model using training data \n",
    "model.fit(X_train, Y_train, batch_size = 32, epochs = 10, verbose = 1)"
   ]
  },
  {
   "cell_type": "code",
   "execution_count": null,
   "metadata": {},
   "outputs": [],
   "source": []
  }
 ],
 "metadata": {
  "kernelspec": {
   "display_name": "Python 3",
   "language": "python",
   "name": "python3"
  },
  "language_info": {
   "codemirror_mode": {
    "name": "ipython",
    "version": 3
   },
   "file_extension": ".py",
   "mimetype": "text/x-python",
   "name": "python",
   "nbconvert_exporter": "python",
   "pygments_lexer": "ipython3",
   "version": "3.7.4"
  }
 },
 "nbformat": 4,
 "nbformat_minor": 2
}
