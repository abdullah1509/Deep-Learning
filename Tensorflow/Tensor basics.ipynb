{
 "cells": [
  {
   "cell_type": "code",
   "execution_count": 1,
   "metadata": {},
   "outputs": [],
   "source": [
    "import tensorflow as tf"
   ]
  },
  {
   "cell_type": "markdown",
   "metadata": {},
   "source": [
    "### Constants"
   ]
  },
  {
   "cell_type": "code",
   "execution_count": 2,
   "metadata": {},
   "outputs": [
    {
     "data": {
      "text/plain": [
       "<tf.Tensor: shape=(3,), dtype=float32, numpy=array([1.5, 2.5, 3.5], dtype=float32)>"
      ]
     },
     "execution_count": 2,
     "metadata": {},
     "output_type": "execute_result"
    }
   ],
   "source": [
    "# Constants\n",
    "t1 = tf.constant([1.5, 2.5, 3.5])\n",
    "t1"
   ]
  },
  {
   "cell_type": "code",
   "execution_count": 3,
   "metadata": {},
   "outputs": [
    {
     "data": {
      "text/plain": [
       "<tf.Tensor: shape=(2, 2), dtype=string, numpy=\n",
       "array([[b'b', b'b'],\n",
       "       [b'b', b'b']], dtype=object)>"
      ]
     },
     "execution_count": 3,
     "metadata": {},
     "output_type": "execute_result"
    }
   ],
   "source": [
    "# 2X2 matrix\n",
    "t2 = tf.constant([['b', 'b'], ['b', 'b']])\n",
    "t2"
   ]
  },
  {
   "cell_type": "code",
   "execution_count": 4,
   "metadata": {},
   "outputs": [
    {
     "data": {
      "text/plain": [
       "<tf.Tensor: shape=(5,), dtype=float32, numpy=array([5., 6., 7., 8., 9.], dtype=float32)>"
      ]
     },
     "execution_count": 4,
     "metadata": {},
     "output_type": "execute_result"
    }
   ],
   "source": [
    "# sequence\n",
    "lin_tensor = tf.linspace(5., 9., 5)\n",
    "lin_tensor"
   ]
  },
  {
   "cell_type": "code",
   "execution_count": 5,
   "metadata": {},
   "outputs": [
    {
     "data": {
      "text/plain": [
       "<tf.Tensor: shape=(8,), dtype=float32, numpy=array([3. , 3.5, 4. , 4.5, 5. , 5.5, 6. , 6.5], dtype=float32)>"
      ]
     },
     "execution_count": 5,
     "metadata": {},
     "output_type": "execute_result"
    }
   ],
   "source": [
    "# delta is step\n",
    "range_tensor = tf.range(3., 7., delta=0.5) \n",
    "range_tensor"
   ]
  },
  {
   "cell_type": "markdown",
   "metadata": {},
   "source": [
    "### Random Variable"
   ]
  },
  {
   "cell_type": "code",
   "execution_count": 7,
   "metadata": {},
   "outputs": [
    {
     "data": {
      "text/plain": [
       "<tf.Tensor: shape=(10,), dtype=float64, numpy=\n",
       "array([-0.61943942, -0.80614762,  0.19821691,  0.59505452,  0.31379991,\n",
       "       -0.59993726, -0.72606807,  0.27729072,  2.10666175, -0.59038219])>"
      ]
     },
     "execution_count": 7,
     "metadata": {},
     "output_type": "execute_result"
    }
   ],
   "source": [
    "# random variables\n",
    "# it creates list of 10 random float numbers\n",
    "rnd_ints = tf.random.normal([10], dtype=tf.float64)\n",
    "rnd_ints"
   ]
  },
  {
   "cell_type": "code",
   "execution_count": 8,
   "metadata": {},
   "outputs": [
    {
     "data": {
      "text/plain": [
       "<tf.Tensor: shape=(10,), dtype=float64, numpy=\n",
       "array([0.49486626, 0.17931046, 0.79922438, 0.01079607, 0.98561248,\n",
       "       0.52362995, 0.32327766, 0.01991511, 0.66750086, 0.28640911])>"
      ]
     },
     "execution_count": 8,
     "metadata": {},
     "output_type": "execute_result"
    }
   ],
   "source": [
    "# it create uniform distributed list of 10 elements\n",
    "rnd_uni = tf.random.uniform([10], dtype=tf.float64)\n",
    "rnd_uni"
   ]
  },
  {
   "cell_type": "code",
   "execution_count": 11,
   "metadata": {},
   "outputs": [
    {
     "data": {
      "text/plain": [
       "<tf.Tensor: shape=(9,), dtype=int32, numpy=array([ 7,  4, 10,  5,  6,  9,  3,  2,  8])>"
      ]
     },
     "execution_count": 11,
     "metadata": {},
     "output_type": "execute_result"
    }
   ],
   "source": [
    "# it shuffle constant\n",
    "shuffle= tf.constant([2,3,4,5,6,7,8,9,10])\n",
    "rnd_shfl= tf.random.shuffle(shuffle)\n",
    "rnd_shfl"
   ]
  },
  {
   "cell_type": "code",
   "execution_count": 13,
   "metadata": {},
   "outputs": [
    {
     "data": {
      "text/plain": [
       "<tf.Tensor: shape=(9,), dtype=int32, numpy=array([ 4,  6, 10,  5,  7,  2,  9,  3,  8])>"
      ]
     },
     "execution_count": 13,
     "metadata": {},
     "output_type": "execute_result"
    }
   ],
   "source": [
    "# and Variable too\n",
    "shuffle= tf.Variable([2,3,4,5,6,7,8,9,10])\n",
    "rnd_shfl= tf.random.shuffle(shuffle)\n",
    "rnd_shfl"
   ]
  },
  {
   "cell_type": "markdown",
   "metadata": {},
   "source": [
    "### Variable"
   ]
  },
  {
   "cell_type": "code",
   "execution_count": 2,
   "metadata": {},
   "outputs": [
    {
     "name": "stdout",
     "output_type": "stream",
     "text": [
      "tf.Tensor([1.5 2.5 3.5], shape=(3,), dtype=float32)\n",
      "<tf.Variable 'Variable:0' shape=(3,) dtype=float32, numpy=array([1.5, 2.5, 3.5], dtype=float32)>\n"
     ]
    }
   ],
   "source": [
    "# tensorA copied to variableA\n",
    "tensorA = tf.constant([1.5, 2.5, 3.5])\n",
    "variableA = tf.Variable(tensorA)\n",
    "print(tensorA)\n",
    "print(variableA)"
   ]
  },
  {
   "cell_type": "code",
   "execution_count": 5,
   "metadata": {},
   "outputs": [
    {
     "data": {
      "text/plain": [
       "<tf.Variable 'Variable:0' shape=(3,) dtype=float32, numpy=array([-1.7708229 , -1.7962883 , -0.52644116], dtype=float32)>"
      ]
     },
     "execution_count": 5,
     "metadata": {},
     "output_type": "execute_result"
    }
   ],
   "source": [
    "# creating random variable\n",
    "variableB = tf.Variable(tf.random.normal([3]))\n",
    "variableB"
   ]
  },
  {
   "cell_type": "code",
   "execution_count": 16,
   "metadata": {},
   "outputs": [
    {
     "name": "stdout",
     "output_type": "stream",
     "text": [
      "tf.Tensor([-6.0402393], shape=(1,), dtype=float32)\n",
      "tf.Tensor(36.48449, shape=(), dtype=float32)\n"
     ]
    }
   ],
   "source": [
    "# operation on tensor\n",
    "x= tf.Variable([5.])\n",
    "m = tf.Variable(tf.random.normal([]))\n",
    "b = tf.Variable(tf.random.normal([]))\n",
    "\n",
    "model = tf.add(tf.multiply(x, m), b)\n",
    "loss = tf.reduce_mean(tf.pow(model, 2))\n",
    "\n",
    "print(model)\n",
    "print(loss)"
   ]
  },
  {
   "cell_type": "markdown",
   "metadata": {},
   "source": [
    "### Transform tensor dimension"
   ]
  },
  {
   "cell_type": "code",
   "execution_count": 14,
   "metadata": {},
   "outputs": [
    {
     "name": "stdout",
     "output_type": "stream",
     "text": [
      "tf.Tensor([1. 2. 3. 4.], shape=(4,), dtype=float32)\n",
      "\n",
      "tf.Tensor(\n",
      "[[1. 2.]\n",
      " [3. 4.]], shape=(2, 2), dtype=float32)\n"
     ]
    }
   ],
   "source": [
    "# transform array dimension\n",
    "vec = tf.constant([1., 2., 3., 4.])\n",
    "mat = tf.reshape(vec, [2, 2])\n",
    "print(vec)\n",
    "print()\n",
    "print(mat)"
   ]
  },
  {
   "cell_type": "code",
   "execution_count": 22,
   "metadata": {},
   "outputs": [
    {
     "name": "stdout",
     "output_type": "stream",
     "text": [
      "tf.Tensor(\n",
      "[[4. 5. 6.]\n",
      " [1. 2. 3.]], shape=(2, 3), dtype=float32)\n",
      "\n",
      "tf.Tensor(\n",
      "[[3. 2. 1.]\n",
      " [6. 5. 4.]], shape=(2, 3), dtype=float32)\n"
     ]
    }
   ],
   "source": [
    "# reversing matrix row and column wise\n",
    "mat = tf.constant([[1., 2., 3.], [4., 5., 6.]])\n",
    "rev_row_wise = tf.reverse(mat, [0])\n",
    "rev_col_wise = tf.reverse(mat, [1])\n",
    "\n",
    "print(rev_row_wise)\n",
    "print()\n",
    "print(rev_col_wise)"
   ]
  },
  {
   "cell_type": "code",
   "execution_count": 28,
   "metadata": {},
   "outputs": [
    {
     "name": "stdout",
     "output_type": "stream",
     "text": [
      "tf.Tensor(\n",
      "[[1. 2. 3.]\n",
      " [4. 5. 6.]\n",
      " [7. 8. 9.]], shape=(3, 3), dtype=float32)\n",
      "\n",
      "tf.Tensor(\n",
      "[[5. 6.]\n",
      " [8. 9.]], shape=(2, 2), dtype=float32)\n"
     ]
    }
   ],
   "source": [
    "# slice extract sub-tensor from tensors\n",
    "mat = tf.constant([[1., 2., 3.], [4., 5., 6.], [7., 8., 9.]])\n",
    "slice_mat = tf.slice(mat, [1, 1], [2, 2])\n",
    "print(mat)\n",
    "print()\n",
    "print(slice_mat)"
   ]
  },
  {
   "cell_type": "code",
   "execution_count": 30,
   "metadata": {},
   "outputs": [
    {
     "data": {
      "text/plain": [
       "<tf.Tensor: shape=(3, 3), dtype=float32, numpy=\n",
       "array([[1., 2., 7.],\n",
       "       [3., 4., 8.],\n",
       "       [5., 6., 9.]], dtype=float32)>"
      ]
     },
     "execution_count": 30,
     "metadata": {},
     "output_type": "execute_result"
    }
   ],
   "source": [
    "# stack place 1 matrix over another\n",
    "t1 = tf.constant([1., 2., 7.])\n",
    "t2 = tf.constant([3., 4., 8.])\n",
    "t3 = tf.constant([5., 6., 9.])\n",
    "t4 = tf.stack([t1, t2, t3])\n",
    "t4"
   ]
  },
  {
   "cell_type": "markdown",
   "metadata": {},
   "source": [
    "### Math operation"
   ]
  },
  {
   "cell_type": "code",
   "execution_count": 31,
   "metadata": {},
   "outputs": [
    {
     "name": "stdout",
     "output_type": "stream",
     "text": [
      "Sum:  tf.Tensor([5. 5. 5.], shape=(3,), dtype=float32)\n",
      "SUbstract:  tf.Tensor([1. 1. 1.], shape=(3,), dtype=float32)\n",
      "Multiply:  tf.Tensor([6. 6. 6.], shape=(3,), dtype=float32)\n",
      "Divide:  tf.Tensor([1.5 1.5 1.5], shape=(3,), dtype=float32)\n"
     ]
    }
   ],
   "source": [
    "a = tf.constant([3., 3., 3.])\n",
    "b = tf.constant([2., 2., 2.])\n",
    "\n",
    "sum = tf.add(a, b) \n",
    "diff = tf.subtract(a, b)\n",
    "prod = tf.multiply(a, b)\n",
    "quot = tf.divide(a, b) \n",
    "\n",
    "print('Sum: ', sum)\n",
    "print('SUbstract: ', diff)\n",
    "print('Multiply: ', prod)\n",
    "print('Divide: ', quot)"
   ]
  },
  {
   "cell_type": "code",
   "execution_count": 36,
   "metadata": {},
   "outputs": [
    {
     "name": "stdout",
     "output_type": "stream",
     "text": [
      "tf.Tensor([1.5 1.5 1.5], shape=(3,), dtype=float64)\n",
      "tf.Tensor([1.5 1.5 1.5], shape=(3,), dtype=float64)\n",
      "tf.Tensor([1 1 1], shape=(3,), dtype=int32)\n",
      "tf.Tensor([1 1 1], shape=(3,), dtype=int32)\n"
     ]
    }
   ],
   "source": [
    "# dividing tensor normally and flooe wise\n",
    "a = tf.constant([3, 3, 3])\n",
    "b = tf.constant([2, 2, 2])\n",
    "\n",
    "div1 = tf.divide(a, b) \n",
    "div2 = a / b \n",
    "div3 = tf.math.floordiv(a, b) \n",
    "div4 = a // b \n",
    "\n",
    "print('Normal divide', div1)\n",
    "print('Normal divide',div2)\n",
    "print('Floor divide',div3)\n",
    "print('Floor divide',div4)"
   ]
  },
  {
   "cell_type": "markdown",
   "metadata": {},
   "source": [
    "### Round & comparision "
   ]
  },
  {
   "cell_type": "code",
   "execution_count": 40,
   "metadata": {},
   "outputs": [
    {
     "name": "stdout",
     "output_type": "stream",
     "text": [
      "tf.Tensor([-6. -3.  4.  4.  7.], shape=(5,), dtype=float32)\n",
      "tf.Tensor([-6. -3.  4.  4.  7.], shape=(5,), dtype=float32)\n",
      "tf.Tensor([-6. -3.  4.  4.  7.], shape=(5,), dtype=float32)\n",
      "tf.Tensor([-7. -4.  3.  3.  6.], shape=(5,), dtype=float32)\n"
     ]
    }
   ],
   "source": [
    "t = tf.constant([-6.2, -3.4, 3.5, 3.6, 6.8, ])\n",
    "r1 = tf.round(t)\n",
    "r2 = tf.math.rint(t) \n",
    "r3 = tf.math.ceil(t) \n",
    "r4 = tf.floor(t) \n",
    "\n",
    "print(r1) # Round tensor\n",
    "print(r2) # Element wise integer\n",
    "print(r3) # Ceil of tensor\n",
    "print(r4) # floor of tensor"
   ]
  },
  {
   "cell_type": "code",
   "execution_count": 41,
   "metadata": {},
   "outputs": [
    {
     "name": "stdout",
     "output_type": "stream",
     "text": [
      "tf.Tensor(1, shape=(), dtype=int64)\n",
      "tf.Tensor([1 0], shape=(2,), dtype=int64)\n"
     ]
    }
   ],
   "source": [
    "t1 = tf.constant([0, -2, 4, 6])\n",
    "t2 = tf.constant([[1, 3], [7, 2]])\n",
    "\n",
    "r1 = tf.argmin(t1) # return minimum element of tensor\n",
    "r2 = tf.argmax(t2) # return maximum element of tensor\n",
    "\n",
    "print(r1)\n",
    "print(r2)"
   ]
  },
  {
   "cell_type": "markdown",
   "metadata": {},
   "source": [
    "### Matrix operation"
   ]
  },
  {
   "cell_type": "code",
   "execution_count": 45,
   "metadata": {},
   "outputs": [
    {
     "data": {
      "text/plain": [
       "<tf.Tensor: shape=(), dtype=float32, numpy=20.0>"
      ]
     },
     "execution_count": 45,
     "metadata": {},
     "output_type": "execute_result"
    }
   ],
   "source": [
    "# dot product of 2 matrix\n",
    "# multiply rows and column and add the\n",
    "t1 = tf.constant([4., 3., 2.])\n",
    "t2 = tf.constant([3., 2., 1.])\n",
    "dot = tf.tensordot(t1, t2, 1)\n",
    "dot"
   ]
  },
  {
   "cell_type": "code",
   "execution_count": 47,
   "metadata": {},
   "outputs": [
    {
     "data": {
      "text/plain": [
       "<tf.Tensor: shape=(2, 2), dtype=float32, numpy=\n",
       "array([[22., 28.],\n",
       "       [49., 64.]], dtype=float32)>"
      ]
     },
     "execution_count": 47,
     "metadata": {},
     "output_type": "execute_result"
    }
   ],
   "source": [
    "# matrix multiplication\n",
    "t1 = tf.constant([[1.0, 2.0, 3.0], [4.0, 5.0, 6.0]])\n",
    "t2 = tf.constant([[1.0, 2.0], [3.0, 4.0], [5.0, 6.0]])\n",
    "dot = tf.matmul(t1, t2)\n",
    "dot"
   ]
  },
  {
   "cell_type": "code",
   "execution_count": 48,
   "metadata": {},
   "outputs": [
    {
     "name": "stdout",
     "output_type": "stream",
     "text": [
      "tf.Tensor(\n",
      "[[22. 28.]\n",
      " [49. 64.]], shape=(2, 2), dtype=float32)\n"
     ]
    }
   ],
   "source": [
    "# matrix mul shortcut\n",
    "print(t1 @ t2)"
   ]
  },
  {
   "cell_type": "code",
   "execution_count": 50,
   "metadata": {},
   "outputs": [
    {
     "name": "stdout",
     "output_type": "stream",
     "text": [
      "tf.Tensor(\n",
      "[[1 2]\n",
      " [3 4]], shape=(2, 2), dtype=int32)\n",
      "tf.Tensor(\n",
      "[[1 3]\n",
      " [2 4]], shape=(2, 2), dtype=int32)\n",
      "\n",
      "tf.Tensor(\n",
      "[[19 22]\n",
      " [43 50]], shape=(2, 2), dtype=int32)\n"
     ]
    }
   ],
   "source": [
    "# m to transpose a matrix and multiply two matrices together\n",
    "m1 = tf.constant([[1, 2], [3, 4]])\n",
    "m2 = tf.constant([[5, 6], [7, 8]])\n",
    "\n",
    "e1 = tf.einsum('ij->ji', m1) \n",
    "e2 = tf.einsum('ij,jk->ik', m1, m2)\n",
    "\n",
    "print(m1)\n",
    "print(e1)\n",
    "print()\n",
    "print(e2) # matrix transpose"
   ]
  },
  {
   "cell_type": "markdown",
   "metadata": {},
   "source": [
    "### Session"
   ]
  },
  {
   "cell_type": "code",
   "execution_count": 66,
   "metadata": {},
   "outputs": [
    {
     "name": "stdout",
     "output_type": "stream",
     "text": [
      "9\n",
      "5\n"
     ]
    }
   ],
   "source": [
    "t1 = tf.constant(9)\n",
    "t2 = tf.constant(5)\n",
    "with tf.compat.v1.Session() as sess:\n",
    " res1, res2 = sess.run([t1, t2])\n",
    " print(res1)\n",
    " print(res2)"
   ]
  },
  {
   "cell_type": "code",
   "execution_count": 63,
   "metadata": {},
   "outputs": [
    {
     "name": "stdout",
     "output_type": "stream",
     "text": [
      "9\n"
     ]
    }
   ],
   "source": [
    "t1 = tf.constant(7)\n",
    "t2 = tf.constant(2)\n",
    "with tf.compat.v1.Session() as sess:\n",
    " res = sess.run(t1 + t2)\n",
    " print(res)"
   ]
  },
  {
   "cell_type": "markdown",
   "metadata": {},
   "source": [
    "### Interactive session"
   ]
  },
  {
   "cell_type": "code",
   "execution_count": 67,
   "metadata": {},
   "outputs": [
    {
     "name": "stdout",
     "output_type": "stream",
     "text": [
      "Product:  4.2000003\n"
     ]
    }
   ],
   "source": [
    "# Normal code\n",
    "t1 = tf.constant(1.2)\n",
    "t2 = tf.constant(3.5)\n",
    "\n",
    "prod = tf.multiply(t1, t2)\n",
    "with tf.compat.v1.Session() as sess:\n",
    " print(\"Product: \", sess.run(prod))"
   ]
  },
  {
   "cell_type": "code",
   "execution_count": 69,
   "metadata": {},
   "outputs": [
    {
     "name": "stdout",
     "output_type": "stream",
     "text": [
      "Product:  4.2000003\n"
     ]
    }
   ],
   "source": [
    "# Interactive session code\n",
    "t1 = tf.constant(1.2)\n",
    "t2 = tf.constant(3.5)\n",
    "\n",
    "prod = tf.multiply(t1, t2)\n",
    "sess = tf.compat.v1.InteractiveSession()\n",
    "print(\"Product: \", prod.eval())"
   ]
  },
  {
   "cell_type": "markdown",
   "metadata": {},
   "source": [
    "### Generating summary data"
   ]
  },
  {
   "cell_type": "code",
   "execution_count": 4,
   "metadata": {},
   "outputs": [
    {
     "name": "stdout",
     "output_type": "stream",
     "text": [
      "Tensor(\"a:0\", shape=(), dtype=string)\n",
      "Tensor(\"b:0\", shape=(), dtype=string)\n",
      "Tensor(\"total:0\", shape=(), dtype=string)\n"
     ]
    }
   ],
   "source": [
    "# Create operations that generate summary data\n",
    "with tf.compat.v1.Session() as sess:\n",
    "    a = tf.constant(2.5)\n",
    "    b = tf.constant(4.5)\n",
    "    total = a + b\n",
    "    \n",
    "    # Create operations that generate summary data\n",
    "    a1= tf.compat.v1.summary.scalar(\"a\", a)\n",
    "    a2= tf.compat.v1.summary.scalar(\"b\", b)\n",
    "    a3= tf.compat.v1.summary.scalar(\"total\", total)\n",
    "    \n",
    "    print(a1)\n",
    "    print(a2)\n",
    "    print(a3)"
   ]
  },
  {
   "cell_type": "code",
   "execution_count": 10,
   "metadata": {},
   "outputs": [
    {
     "ename": "RuntimeError",
     "evalue": "v1.summary.FileWriter is not compatible with eager execution. Use `tf.summary.create_file_writer`,or a `with v1.Graph().as_default():` context",
     "output_type": "error",
     "traceback": [
      "\u001b[1;31m---------------------------------------------------------------------------\u001b[0m",
      "\u001b[1;31mRuntimeError\u001b[0m                              Traceback (most recent call last)",
      "\u001b[1;32m<ipython-input-10-10194adff216>\u001b[0m in \u001b[0;36m<module>\u001b[1;34m\u001b[0m\n\u001b[0;32m      1\u001b[0m \u001b[1;31m# Create FileWriter\u001b[0m\u001b[1;33m\u001b[0m\u001b[1;33m\u001b[0m\u001b[1;33m\u001b[0m\u001b[0m\n\u001b[1;32m----> 2\u001b[1;33m \u001b[0mfile_writer\u001b[0m \u001b[1;33m=\u001b[0m \u001b[0mtf\u001b[0m\u001b[1;33m.\u001b[0m\u001b[0mcompat\u001b[0m\u001b[1;33m.\u001b[0m\u001b[0mv1\u001b[0m\u001b[1;33m.\u001b[0m\u001b[0msummary\u001b[0m\u001b[1;33m.\u001b[0m\u001b[0mFileWriter\u001b[0m\u001b[1;33m(\u001b[0m\u001b[1;34m\"log\"\u001b[0m\u001b[1;33m,\u001b[0m \u001b[0mgraph\u001b[0m\u001b[1;33m=\u001b[0m\u001b[0mtf\u001b[0m\u001b[1;33m.\u001b[0m\u001b[0mcompat\u001b[0m\u001b[1;33m.\u001b[0m\u001b[0mv1\u001b[0m\u001b[1;33m.\u001b[0m\u001b[0mget_default_graph\u001b[0m\u001b[1;33m(\u001b[0m\u001b[1;33m)\u001b[0m\u001b[1;33m)\u001b[0m\u001b[1;33m\u001b[0m\u001b[1;33m\u001b[0m\u001b[0m\n\u001b[0m\u001b[0;32m      3\u001b[0m \u001b[0mfile_writer\u001b[0m\u001b[1;33m\u001b[0m\u001b[1;33m\u001b[0m\u001b[0m\n\u001b[0;32m      4\u001b[0m \u001b[1;31m# error due to tensor version\u001b[0m\u001b[1;33m\u001b[0m\u001b[1;33m\u001b[0m\u001b[1;33m\u001b[0m\u001b[0m\n",
      "\u001b[1;32m~\\Anaconda3\\lib\\site-packages\\tensorflow\\python\\summary\\writer\\writer.py\u001b[0m in \u001b[0;36m__init__\u001b[1;34m(self, logdir, graph, max_queue, flush_secs, graph_def, filename_suffix, session)\u001b[0m\n\u001b[0;32m    358\u001b[0m     \u001b[1;32mif\u001b[0m \u001b[0mcontext\u001b[0m\u001b[1;33m.\u001b[0m\u001b[0mexecuting_eagerly\u001b[0m\u001b[1;33m(\u001b[0m\u001b[1;33m)\u001b[0m\u001b[1;33m:\u001b[0m\u001b[1;33m\u001b[0m\u001b[1;33m\u001b[0m\u001b[0m\n\u001b[0;32m    359\u001b[0m       raise RuntimeError(\n\u001b[1;32m--> 360\u001b[1;33m           \u001b[1;34m\"v1.summary.FileWriter is not compatible with eager execution. \"\u001b[0m\u001b[1;33m\u001b[0m\u001b[1;33m\u001b[0m\u001b[0m\n\u001b[0m\u001b[0;32m    361\u001b[0m           \u001b[1;34m\"Use `tf.summary.create_file_writer`,\"\u001b[0m\u001b[1;33m\u001b[0m\u001b[1;33m\u001b[0m\u001b[0m\n\u001b[0;32m    362\u001b[0m           \"or a `with v1.Graph().as_default():` context\")\n",
      "\u001b[1;31mRuntimeError\u001b[0m: v1.summary.FileWriter is not compatible with eager execution. Use `tf.summary.create_file_writer`,or a `with v1.Graph().as_default():` context"
     ]
    }
   ],
   "source": [
    "# Create FileWriter\n",
    "file_writer = tf.compat.v1.summary.FileWriter(\"log\", graph=tf.compat.v1.get_default_graph())\n",
    "file_writer\n",
    "# error due to tensor version"
   ]
  },
  {
   "cell_type": "code",
   "execution_count": 11,
   "metadata": {},
   "outputs": [
    {
     "ename": "TypeError",
     "evalue": "cannot unpack non-iterable numpy.float32 object",
     "output_type": "error",
     "traceback": [
      "\u001b[1;31m---------------------------------------------------------------------------\u001b[0m",
      "\u001b[1;31mTypeError\u001b[0m                                 Traceback (most recent call last)",
      "\u001b[1;32m<ipython-input-11-05199a6a8954>\u001b[0m in \u001b[0;36m<module>\u001b[1;34m\u001b[0m\n\u001b[0;32m      8\u001b[0m \u001b[1;33m\u001b[0m\u001b[0m\n\u001b[0;32m      9\u001b[0m     \u001b[1;31m# execute session\u001b[0m\u001b[1;33m\u001b[0m\u001b[1;33m\u001b[0m\u001b[1;33m\u001b[0m\u001b[0m\n\u001b[1;32m---> 10\u001b[1;33m     \u001b[0mdot_result\u001b[0m\u001b[1;33m,\u001b[0m \u001b[0msummary\u001b[0m\u001b[1;33m=\u001b[0m \u001b[0msess\u001b[0m\u001b[1;33m.\u001b[0m\u001b[0mrun\u001b[0m\u001b[1;33m(\u001b[0m\u001b[0mt4\u001b[0m\u001b[1;33m)\u001b[0m\u001b[1;33m\u001b[0m\u001b[1;33m\u001b[0m\u001b[0m\n\u001b[0m\u001b[0;32m     11\u001b[0m \u001b[1;33m\u001b[0m\u001b[0m\n\u001b[0;32m     12\u001b[0m     \u001b[1;31m# write result to log\u001b[0m\u001b[1;33m\u001b[0m\u001b[1;33m\u001b[0m\u001b[1;33m\u001b[0m\u001b[0m\n",
      "\u001b[1;31mTypeError\u001b[0m: cannot unpack non-iterable numpy.float32 object"
     ]
    }
   ],
   "source": [
    "# Execute first graph\n",
    "with tf.compat.v1.Session() as sess:\n",
    "    # Create tensors\n",
    "    t1 = tf.constant([1.2, 2.3, 3.4, 4.5])\n",
    "    t2 = tf.constant([5.6, 6.7, 7.8, 8.9])\n",
    "    t3 = tf.concat([t1, t2], 0)\n",
    "    t4 = tf.tensordot(t1, t2, 1)\n",
    "    \n",
    "    # execute session\n",
    "    dot_result, summary= sess.run(t4)\n",
    "    \n",
    "    # write result to log\n",
    "    tf.compat.v1.logging.info('Dot product result: ', dot_result)\n",
    "    \n",
    "    # print summary data\n",
    "    file_writer.add_summary(summary)\n",
    "    file_writer.flish()"
   ]
  },
  {
   "cell_type": "code",
   "execution_count": null,
   "metadata": {},
   "outputs": [],
   "source": []
  }
 ],
 "metadata": {
  "kernelspec": {
   "display_name": "Python 3",
   "language": "python",
   "name": "python3"
  },
  "language_info": {
   "codemirror_mode": {
    "name": "ipython",
    "version": 3
   },
   "file_extension": ".py",
   "mimetype": "text/x-python",
   "name": "python",
   "nbconvert_exporter": "python",
   "pygments_lexer": "ipython3",
   "version": "3.7.4"
  }
 },
 "nbformat": 4,
 "nbformat_minor": 2
}
