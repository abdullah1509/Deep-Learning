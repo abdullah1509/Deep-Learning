{
 "cells": [
  {
   "cell_type": "code",
   "execution_count": 1,
   "metadata": {},
   "outputs": [],
   "source": [
    "# ignore msg from tensorflow\n",
    "import os\n",
    "os.environ['TF_CP_MIN_LOG_LEVEL'] = '2'"
   ]
  },
  {
   "cell_type": "code",
   "execution_count": 2,
   "metadata": {},
   "outputs": [],
   "source": [
    "import tensorflow as tf\n",
    "from tensorflow import keras\n",
    "from tensorflow.keras import layers\n",
    "from tensorflow.keras.datasets import mnist"
   ]
  },
  {
   "cell_type": "code",
   "execution_count": 13,
   "metadata": {},
   "outputs": [],
   "source": [
    "# load dataset\n",
    "(x_train, y_train), (x_test, y_test) = mnist.load_data()"
   ]
  },
  {
   "cell_type": "code",
   "execution_count": 4,
   "metadata": {},
   "outputs": [],
   "source": [
    "# normalize data\n",
    "x_train = x_train.astype(\"float32\") / 255.0\n",
    "x_test = x_test.astype(\"float32\") / 255.0"
   ]
  },
  {
   "cell_type": "code",
   "execution_count": 14,
   "metadata": {},
   "outputs": [],
   "source": [
    "model = keras.Sequential()\n",
    "model.add(keras.Input(shape=(None, 28)))\n",
    "model.add(layers.SimpleRNN(512, return_sequences=True, activation=\"relu\")) \n",
    "model.add(layers.SimpleRNN(512, activation=\"relu\"))\n",
    "model.add(layers.Dense(10))"
   ]
  },
  {
   "cell_type": "markdown",
   "metadata": {},
   "source": [
    "### Using GRU"
   ]
  },
  {
   "cell_type": "code",
   "execution_count": null,
   "metadata": {},
   "outputs": [],
   "source": [
    "# not run coz of time consumption\n",
    "model = keras.Sequential()\n",
    "model.add(keras.Input(shape=(None, 28)))\n",
    "model.add(layers.GRU(256, return_sequence=True, activation='tanh'))\n",
    "model.add(layers.GRU(256, activation='tanh'))\n",
    "model.add(layers.Dense(10))"
   ]
  },
  {
   "cell_type": "markdown",
   "metadata": {},
   "source": [
    "### Using LSTM"
   ]
  },
  {
   "cell_type": "code",
   "execution_count": null,
   "metadata": {},
   "outputs": [],
   "source": [
    "# not run coz of time consumption\n",
    "model = keras.Sequential()\n",
    "model.add(keras.Input(shape=(None, 28)))\n",
    "model.add(layers.Bidirectional(layers.LSTM(256, return_sequence=True, activation='tanh')))\n",
    "model.add(layers.Bidirectional(layers.LSTM(256, activation='tanh')))\n",
    "model.add(layers.Dense(10))"
   ]
  },
  {
   "cell_type": "code",
   "execution_count": null,
   "metadata": {},
   "outputs": [],
   "source": []
  },
  {
   "cell_type": "code",
   "execution_count": 15,
   "metadata": {},
   "outputs": [
    {
     "name": "stdout",
     "output_type": "stream",
     "text": [
      "Model: \"sequential_1\"\n",
      "_________________________________________________________________\n",
      "Layer (type)                 Output Shape              Param #   \n",
      "=================================================================\n",
      "simple_rnn_2 (SimpleRNN)     (None, None, 512)         276992    \n",
      "_________________________________________________________________\n",
      "simple_rnn_3 (SimpleRNN)     (None, 512)               524800    \n",
      "_________________________________________________________________\n",
      "dense_1 (Dense)              (None, 10)                5130      \n",
      "=================================================================\n",
      "Total params: 806,922\n",
      "Trainable params: 806,922\n",
      "Non-trainable params: 0\n",
      "_________________________________________________________________\n"
     ]
    }
   ],
   "source": [
    "model.summary()"
   ]
  },
  {
   "cell_type": "code",
   "execution_count": 16,
   "metadata": {},
   "outputs": [],
   "source": [
    "model.compile(\n",
    "    loss= keras.losses.SparseCategoricalCrossentropy(from_logits=True),\n",
    "    optimizer= keras.optimizers.Adam(learning_rate=0.001), \n",
    "    metrics= ['accuracy'])"
   ]
  },
  {
   "cell_type": "code",
   "execution_count": 17,
   "metadata": {},
   "outputs": [
    {
     "name": "stdout",
     "output_type": "stream",
     "text": [
      "Epoch 1/10\n",
      "938/938 - 518s - loss: 0.9549 - accuracy: 0.7105\n",
      "Epoch 2/10\n",
      "938/938 - 522s - loss: 0.2914 - accuracy: 0.9180\n",
      "Epoch 3/10\n",
      "938/938 - 520s - loss: 0.2149 - accuracy: 0.9442\n",
      "Epoch 4/10\n",
      "938/938 - 519s - loss: 0.1832 - accuracy: 0.9523\n",
      "Epoch 5/10\n",
      "938/938 - 542s - loss: 0.1716 - accuracy: 0.9564\n",
      "Epoch 6/10\n",
      "938/938 - 518s - loss: 0.1756 - accuracy: 0.9567\n",
      "Epoch 7/10\n",
      "938/938 - 519s - loss: 0.1435 - accuracy: 0.9633\n",
      "Epoch 8/10\n",
      "938/938 - 522s - loss: 0.1481 - accuracy: 0.9634\n",
      "Epoch 9/10\n",
      "938/938 - 520s - loss: 0.1302 - accuracy: 0.9682\n",
      "Epoch 10/10\n",
      "938/938 - 522s - loss: 0.1286 - accuracy: 0.9685\n"
     ]
    },
    {
     "data": {
      "text/plain": [
       "<keras.callbacks.History at 0x836c560948>"
      ]
     },
     "execution_count": 17,
     "metadata": {},
     "output_type": "execute_result"
    }
   ],
   "source": [
    "model.fit(x_train, y_train, batch_size=64, epochs=10, verbose=2)"
   ]
  },
  {
   "cell_type": "code",
   "execution_count": 18,
   "metadata": {},
   "outputs": [
    {
     "name": "stdout",
     "output_type": "stream",
     "text": [
      "157/157 - 28s - loss: 0.1396 - accuracy: 0.9665\n"
     ]
    },
    {
     "data": {
      "text/plain": [
       "[0.13957415521144867, 0.9664999842643738]"
      ]
     },
     "execution_count": 18,
     "metadata": {},
     "output_type": "execute_result"
    }
   ],
   "source": [
    "# accuracy\n",
    "model.evaluate(x_test, y_test, batch_size=64, verbose=2)"
   ]
  },
  {
   "cell_type": "code",
   "execution_count": null,
   "metadata": {},
   "outputs": [],
   "source": []
  }
 ],
 "metadata": {
  "kernelspec": {
   "display_name": "Python 3",
   "language": "python",
   "name": "python3"
  },
  "language_info": {
   "codemirror_mode": {
    "name": "ipython",
    "version": 3
   },
   "file_extension": ".py",
   "mimetype": "text/x-python",
   "name": "python",
   "nbconvert_exporter": "python",
   "pygments_lexer": "ipython3",
   "version": "3.7.4"
  }
 },
 "nbformat": 4,
 "nbformat_minor": 2
}
