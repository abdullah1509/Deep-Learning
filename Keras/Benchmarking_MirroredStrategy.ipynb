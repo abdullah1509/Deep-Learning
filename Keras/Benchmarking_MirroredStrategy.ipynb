{
 "cells": [
  {
   "cell_type": "code",
   "execution_count": 1,
   "metadata": {},
   "outputs": [],
   "source": [
    "import os\n",
    "os.environ[\"CUDA_VISIBLE_DEVICES\"]=\"4\""
   ]
  },
  {
   "cell_type": "code",
   "execution_count": 2,
   "metadata": {},
   "outputs": [],
   "source": [
    "import tensorflow as tf\n",
    "from tensorflow import keras\n",
    "import numpy as np"
   ]
  },
  {
   "cell_type": "code",
   "execution_count": 3,
   "metadata": {},
   "outputs": [
    {
     "data": {
      "text/plain": [
       "[PhysicalDevice(name='/physical_device:CPU:0', device_type='CPU')]"
      ]
     },
     "execution_count": 3,
     "metadata": {},
     "output_type": "execute_result"
    }
   ],
   "source": [
    "tf.config.experimental.list_physical_devices()"
   ]
  },
  {
   "cell_type": "code",
   "execution_count": 4,
   "metadata": {},
   "outputs": [
    {
     "data": {
      "text/plain": [
       "True"
      ]
     },
     "execution_count": 4,
     "metadata": {},
     "output_type": "execute_result"
    }
   ],
   "source": [
    "tf.test.is_built_with_cuda()"
   ]
  },
  {
   "cell_type": "code",
   "execution_count": 5,
   "metadata": {},
   "outputs": [],
   "source": [
    "# load dataset\n",
    "(X_train, y_train), (X_test,y_test) = tf.keras.datasets.cifar10.load_data()"
   ]
  },
  {
   "cell_type": "code",
   "execution_count": 6,
   "metadata": {},
   "outputs": [
    {
     "name": "stdout",
     "output_type": "stream",
     "text": [
      "(50000, 32, 32, 3)\n",
      "(10000, 32, 32, 3)\n",
      "(50000, 1)\n",
      "(10000, 1)\n"
     ]
    }
   ],
   "source": [
    "print(X_train.shape)\n",
    "print(X_test.shape)\n",
    "print(y_train.shape)\n",
    "print(y_test.shape)"
   ]
  },
  {
   "cell_type": "code",
   "execution_count": 7,
   "metadata": {},
   "outputs": [],
   "source": [
    "# labels\n",
    "classes = [\"airplane\",\"automobile\",\"bird\",\"cat\",\"deer\",\"dog\",\"frog\",\"horse\",\"ship\",\"truck\"]"
   ]
  },
  {
   "cell_type": "code",
   "execution_count": 8,
   "metadata": {},
   "outputs": [],
   "source": [
    "# scaling\n",
    "X_train_scaled= X_train / 255\n",
    "X_test_scaled= X_test / 255"
   ]
  },
  {
   "cell_type": "code",
   "execution_count": 9,
   "metadata": {},
   "outputs": [
    {
     "data": {
      "text/plain": [
       "'deer'"
      ]
     },
     "execution_count": 9,
     "metadata": {},
     "output_type": "execute_result"
    }
   ],
   "source": [
    "classes[y_train[3][0]]"
   ]
  },
  {
   "cell_type": "code",
   "execution_count": 10,
   "metadata": {},
   "outputs": [],
   "source": [
    "y_train_categorical = keras.utils.to_categorical(y_train, num_classes=10, dtype='float32')\n",
    "y_test_categorical = keras.utils.to_categorical(y_test, num_classes=10, dtype='float32')"
   ]
  },
  {
   "cell_type": "code",
   "execution_count": 11,
   "metadata": {},
   "outputs": [],
   "source": [
    "# custom NN model\n",
    "def get_model():\n",
    "    model = keras.Sequential([\n",
    "            keras.layers.Flatten(input_shape=(32,32,3)),\n",
    "            keras.layers.Dense(3000, activation='relu'),\n",
    "            keras.layers.Dense(1000, activation='relu'),\n",
    "            keras.layers.Dense(10, activation='sigmoid')    \n",
    "        ])\n",
    "\n",
    "    model.compile(optimizer='SGD',\n",
    "                  loss='categorical_crossentropy',\n",
    "                  metrics=['accuracy'])\n",
    "    return model"
   ]
  },
  {
   "cell_type": "code",
   "execution_count": 12,
   "metadata": {},
   "outputs": [],
   "source": [
    "# converting numpy array to tf array\n",
    "train_tf_dataset = tf.data.Dataset.from_tensor_slices((X_train_scaled, y_train_categorical))\n",
    "test_tf_dataset = tf.data.Dataset.from_tensor_slices((X_test_scaled, y_test_categorical))"
   ]
  },
  {
   "cell_type": "code",
   "execution_count": 14,
   "metadata": {},
   "outputs": [
    {
     "data": {
      "text/plain": [
       "tensorflow.python.data.ops.dataset_ops.TensorSliceDataset"
      ]
     },
     "execution_count": 14,
     "metadata": {},
     "output_type": "execute_result"
    }
   ],
   "source": [
    "type(train_tf_dataset)"
   ]
  },
  {
   "cell_type": "code",
   "execution_count": 15,
   "metadata": {},
   "outputs": [
    {
     "name": "stdout",
     "output_type": "stream",
     "text": [
      "WARNING:tensorflow:There are non-GPU devices in `tf.distribute.Strategy`, not using nccl allreduce.\n",
      "INFO:tensorflow:Using MirroredStrategy with devices ('/job:localhost/replica:0/task:0/device:CPU:0',)\n"
     ]
    }
   ],
   "source": [
    "# tf MirroredStrategy \n",
    "strategy = tf.distribute.MirroredStrategy()"
   ]
  },
  {
   "cell_type": "code",
   "execution_count": 16,
   "metadata": {},
   "outputs": [
    {
     "data": {
      "text/plain": [
       "1"
      ]
     },
     "execution_count": 16,
     "metadata": {},
     "output_type": "execute_result"
    }
   ],
   "source": [
    "# no of GPU if available or no of CPU\n",
    "strategy.num_replicas_in_sync"
   ]
  },
  {
   "cell_type": "code",
   "execution_count": 17,
   "metadata": {},
   "outputs": [],
   "source": [
    "BATCH_SIZE_PER_REPLICA = 250\n",
    "BATCH_SIZE = BATCH_SIZE_PER_REPLICA * strategy.num_replicas_in_sync"
   ]
  },
  {
   "cell_type": "code",
   "execution_count": 18,
   "metadata": {},
   "outputs": [],
   "source": [
    "train_dataset = train_tf_dataset.batch(BATCH_SIZE).prefetch(tf.data.AUTOTUNE)\n",
    "test_dataset = test_tf_dataset.batch(BATCH_SIZE)"
   ]
  },
  {
   "cell_type": "code",
   "execution_count": 19,
   "metadata": {},
   "outputs": [
    {
     "name": "stdout",
     "output_type": "stream",
     "text": [
      "Epoch 1/50\n",
      "200/200 [==============================] - 64s 298ms/step - loss: 1.9785 - accuracy: 0.2985\n",
      "Epoch 2/50\n",
      "200/200 [==============================] - 63s 312ms/step - loss: 1.8163 - accuracy: 0.3652\n",
      "Epoch 3/50\n",
      "200/200 [==============================] - 60s 299ms/step - loss: 1.7541 - accuracy: 0.3889\n",
      "Epoch 4/50\n",
      "200/200 [==============================] - 61s 304ms/step - loss: 1.7110 - accuracy: 0.4040\n",
      "Epoch 5/50\n",
      "200/200 [==============================] - 61s 303ms/step - loss: 1.6768 - accuracy: 0.4153\n",
      "Epoch 6/50\n",
      "200/200 [==============================] - 61s 306ms/step - loss: 1.6478 - accuracy: 0.4267\n",
      "Epoch 7/50\n",
      "200/200 [==============================] - 61s 305ms/step - loss: 1.6225 - accuracy: 0.4362\n",
      "Epoch 8/50\n",
      "200/200 [==============================] - 60s 297ms/step - loss: 1.6003 - accuracy: 0.4434\n",
      "Epoch 9/50\n",
      "200/200 [==============================] - 58s 291ms/step - loss: 1.5804 - accuracy: 0.4512\n",
      "Epoch 10/50\n",
      "200/200 [==============================] - 58s 292ms/step - loss: 1.5625 - accuracy: 0.4577\n",
      "Epoch 11/50\n",
      "200/200 [==============================] - 59s 294ms/step - loss: 1.5459 - accuracy: 0.4633\n",
      "Epoch 12/50\n",
      "200/200 [==============================] - 59s 296ms/step - loss: 1.5307 - accuracy: 0.4697\n",
      "Epoch 13/50\n",
      "200/200 [==============================] - 59s 293ms/step - loss: 1.5164 - accuracy: 0.4749\n",
      "Epoch 14/50\n",
      "200/200 [==============================] - 58s 292ms/step - loss: 1.5030 - accuracy: 0.4798\n",
      "Epoch 15/50\n",
      "200/200 [==============================] - 58s 292ms/step - loss: 1.4903 - accuracy: 0.4841\n",
      "Epoch 16/50\n",
      "200/200 [==============================] - 59s 293ms/step - loss: 1.4781 - accuracy: 0.4873\n",
      "Epoch 17/50\n",
      "200/200 [==============================] - 59s 295ms/step - loss: 1.4663 - accuracy: 0.4915\n",
      "Epoch 18/50\n",
      "200/200 [==============================] - 59s 294ms/step - loss: 1.4549 - accuracy: 0.4963\n",
      "Epoch 19/50\n",
      "200/200 [==============================] - 58s 292ms/step - loss: 1.4440 - accuracy: 0.4995\n",
      "Epoch 20/50\n",
      "200/200 [==============================] - 59s 296ms/step - loss: 1.4333 - accuracy: 0.5036\n",
      "Epoch 21/50\n",
      "200/200 [==============================] - 59s 294ms/step - loss: 1.4228 - accuracy: 0.5068\n",
      "Epoch 22/50\n",
      "200/200 [==============================] - 59s 296ms/step - loss: 1.4126 - accuracy: 0.5106\n",
      "Epoch 23/50\n",
      "200/200 [==============================] - 59s 295ms/step - loss: 1.4026 - accuracy: 0.5140\n",
      "Epoch 24/50\n",
      "200/200 [==============================] - 59s 297ms/step - loss: 1.3928 - accuracy: 0.5174\n",
      "Epoch 25/50\n",
      "200/200 [==============================] - 59s 295ms/step - loss: 1.3834 - accuracy: 0.5205\n",
      "Epoch 26/50\n",
      "200/200 [==============================] - 62s 308ms/step - loss: 1.3741 - accuracy: 0.5242\n",
      "Epoch 27/50\n",
      "200/200 [==============================] - 67s 336ms/step - loss: 1.3650 - accuracy: 0.5272\n",
      "Epoch 28/50\n",
      "200/200 [==============================] - 65s 323ms/step - loss: 1.3560 - accuracy: 0.5303\n",
      "Epoch 29/50\n",
      "200/200 [==============================] - 58s 292ms/step - loss: 1.3473 - accuracy: 0.5336\n",
      "Epoch 30/50\n",
      "200/200 [==============================] - 59s 292ms/step - loss: 1.3387 - accuracy: 0.5364\n",
      "Epoch 31/50\n",
      "200/200 [==============================] - 59s 294ms/step - loss: 1.3303 - accuracy: 0.5394\n",
      "Epoch 32/50\n",
      "200/200 [==============================] - 59s 296ms/step - loss: 1.3219 - accuracy: 0.5423\n",
      "Epoch 33/50\n",
      "200/200 [==============================] - 59s 292ms/step - loss: 1.3137 - accuracy: 0.5455\n",
      "Epoch 34/50\n",
      "200/200 [==============================] - 58s 290ms/step - loss: 1.3057 - accuracy: 0.5484\n",
      "Epoch 35/50\n",
      "200/200 [==============================] - 58s 291ms/step - loss: 1.2979 - accuracy: 0.5513\n",
      "Epoch 36/50\n",
      "200/200 [==============================] - 59s 295ms/step - loss: 1.2902 - accuracy: 0.5538\n",
      "Epoch 37/50\n",
      "200/200 [==============================] - 59s 294ms/step - loss: 1.2825 - accuracy: 0.5565\n",
      "Epoch 38/50\n",
      "200/200 [==============================] - 59s 292ms/step - loss: 1.2748 - accuracy: 0.5596\n",
      "Epoch 39/50\n",
      "200/200 [==============================] - 59s 294ms/step - loss: 1.2673 - accuracy: 0.5623\n",
      "Epoch 40/50\n",
      "200/200 [==============================] - 59s 292ms/step - loss: 1.2599 - accuracy: 0.5652\n",
      "Epoch 41/50\n",
      "200/200 [==============================] - 58s 292ms/step - loss: 1.2525 - accuracy: 0.5677\n",
      "Epoch 42/50\n",
      "200/200 [==============================] - 59s 296ms/step - loss: 1.2452 - accuracy: 0.5706\n",
      "Epoch 43/50\n",
      "200/200 [==============================] - 58s 292ms/step - loss: 1.2381 - accuracy: 0.5732\n",
      "Epoch 44/50\n",
      "200/200 [==============================] - 58s 292ms/step - loss: 1.2310 - accuracy: 0.5759\n",
      "Epoch 45/50\n",
      "200/200 [==============================] - 58s 291ms/step - loss: 1.2240 - accuracy: 0.5784\n",
      "Epoch 46/50\n",
      "200/200 [==============================] - 59s 294ms/step - loss: 1.2171 - accuracy: 0.5805\n",
      "Epoch 47/50\n",
      "200/200 [==============================] - 59s 295ms/step - loss: 1.2103 - accuracy: 0.5831\n",
      "Epoch 48/50\n",
      "200/200 [==============================] - 59s 296ms/step - loss: 1.2034 - accuracy: 0.5852\n",
      "Epoch 49/50\n",
      "200/200 [==============================] - 58s 290ms/step - loss: 1.1967 - accuracy: 0.5882\n",
      "Epoch 50/50\n",
      "200/200 [==============================] - 59s 294ms/step - loss: 1.1899 - accuracy: 0.5909\n"
     ]
    }
   ],
   "source": [
    "# runnintg distributed training\n",
    "%timeit -n1 -r1 \n",
    "with strategy.scope():\n",
    "    gpu_model = get_model()\n",
    "    gpu_model.fit(train_dataset, epochs=50)"
   ]
  },
  {
   "cell_type": "code",
   "execution_count": 20,
   "metadata": {},
   "outputs": [
    {
     "name": "stdout",
     "output_type": "stream",
     "text": [
      "Epoch 1/50\n",
      "200/200 [==============================] - 60s 295ms/step - loss: 1.9772 - accuracy: 0.2999\n",
      "Epoch 2/50\n",
      "200/200 [==============================] - 59s 296ms/step - loss: 1.8133 - accuracy: 0.3644\n",
      "Epoch 3/50\n",
      "200/200 [==============================] - 59s 292ms/step - loss: 1.7520 - accuracy: 0.3880\n",
      "Epoch 4/50\n",
      "200/200 [==============================] - 59s 293ms/step - loss: 1.7092 - accuracy: 0.4036\n",
      "Epoch 5/50\n",
      "200/200 [==============================] - 58s 291ms/step - loss: 1.6751 - accuracy: 0.4161\n",
      "Epoch 6/50\n",
      "200/200 [==============================] - 58s 291ms/step - loss: 1.6463 - accuracy: 0.4269\n",
      "Epoch 7/50\n",
      "200/200 [==============================] - 58s 291ms/step - loss: 1.6212 - accuracy: 0.4367\n",
      "Epoch 8/50\n",
      "200/200 [==============================] - 58s 292ms/step - loss: 1.5989 - accuracy: 0.4443\n",
      "Epoch 9/50\n",
      "200/200 [==============================] - 58s 292ms/step - loss: 1.5788 - accuracy: 0.4513\n",
      "Epoch 10/50\n",
      "200/200 [==============================] - 58s 291ms/step - loss: 1.5607 - accuracy: 0.4569\n",
      "Epoch 11/50\n",
      "200/200 [==============================] - 58s 290ms/step - loss: 1.5441 - accuracy: 0.4634\n",
      "Epoch 12/50\n",
      "200/200 [==============================] - 58s 289ms/step - loss: 1.5287 - accuracy: 0.4691\n",
      "Epoch 13/50\n",
      "200/200 [==============================] - 58s 288ms/step - loss: 1.5145 - accuracy: 0.4741\n",
      "Epoch 14/50\n",
      "200/200 [==============================] - 58s 290ms/step - loss: 1.5011 - accuracy: 0.4787\n",
      "Epoch 15/50\n",
      "200/200 [==============================] - 58s 288ms/step - loss: 1.4883 - accuracy: 0.4839\n",
      "Epoch 16/50\n",
      "200/200 [==============================] - 57s 287ms/step - loss: 1.4761 - accuracy: 0.4885\n",
      "Epoch 17/50\n",
      "200/200 [==============================] - 58s 288ms/step - loss: 1.4643 - accuracy: 0.4928\n",
      "Epoch 18/50\n",
      "200/200 [==============================] - 58s 290ms/step - loss: 1.4530 - accuracy: 0.4970\n",
      "Epoch 19/50\n",
      "200/200 [==============================] - 58s 289ms/step - loss: 1.4419 - accuracy: 0.5009\n",
      "Epoch 20/50\n",
      "200/200 [==============================] - 58s 290ms/step - loss: 1.4313 - accuracy: 0.5052\n",
      "Epoch 21/50\n",
      "200/200 [==============================] - 58s 288ms/step - loss: 1.4208 - accuracy: 0.5081\n",
      "Epoch 22/50\n",
      "200/200 [==============================] - 58s 290ms/step - loss: 1.4107 - accuracy: 0.5116\n",
      "Epoch 23/50\n",
      "200/200 [==============================] - 58s 290ms/step - loss: 1.4007 - accuracy: 0.5153\n",
      "Epoch 24/50\n",
      "200/200 [==============================] - 58s 289ms/step - loss: 1.3909 - accuracy: 0.5192\n",
      "Epoch 25/50\n",
      "200/200 [==============================] - 58s 289ms/step - loss: 1.3812 - accuracy: 0.5222\n",
      "Epoch 26/50\n",
      "200/200 [==============================] - 57s 287ms/step - loss: 1.3718 - accuracy: 0.5253\n",
      "Epoch 27/50\n",
      "200/200 [==============================] - 59s 295ms/step - loss: 1.3627 - accuracy: 0.5283\n",
      "Epoch 28/50\n",
      "200/200 [==============================] - 58s 289ms/step - loss: 1.3537 - accuracy: 0.5321\n",
      "Epoch 29/50\n",
      "200/200 [==============================] - 58s 288ms/step - loss: 1.3448 - accuracy: 0.5353\n",
      "Epoch 30/50\n",
      "200/200 [==============================] - 58s 288ms/step - loss: 1.3361 - accuracy: 0.5384\n",
      "Epoch 31/50\n",
      "200/200 [==============================] - 59s 294ms/step - loss: 1.3276 - accuracy: 0.5412\n",
      "Epoch 32/50\n",
      "200/200 [==============================] - 58s 289ms/step - loss: 1.3190 - accuracy: 0.5444\n",
      "Epoch 33/50\n",
      "200/200 [==============================] - 57s 287ms/step - loss: 1.3108 - accuracy: 0.5470\n",
      "Epoch 34/50\n",
      "200/200 [==============================] - 58s 291ms/step - loss: 1.3027 - accuracy: 0.5492\n",
      "Epoch 35/50\n",
      "200/200 [==============================] - 57s 284ms/step - loss: 1.2947 - accuracy: 0.5523\n",
      "Epoch 36/50\n",
      "200/200 [==============================] - 58s 290ms/step - loss: 1.2869 - accuracy: 0.5552\n",
      "Epoch 37/50\n",
      "200/200 [==============================] - 58s 289ms/step - loss: 1.2791 - accuracy: 0.5575\n",
      "Epoch 38/50\n",
      "200/200 [==============================] - 58s 288ms/step - loss: 1.2713 - accuracy: 0.5606\n",
      "Epoch 39/50\n",
      "200/200 [==============================] - 58s 289ms/step - loss: 1.2637 - accuracy: 0.5629\n",
      "Epoch 40/50\n",
      "200/200 [==============================] - 58s 287ms/step - loss: 1.2565 - accuracy: 0.5652\n",
      "Epoch 41/50\n",
      "200/200 [==============================] - 59s 297ms/step - loss: 1.2489 - accuracy: 0.5678\n",
      "Epoch 42/50\n",
      "200/200 [==============================] - 58s 290ms/step - loss: 1.2417 - accuracy: 0.5702\n",
      "Epoch 43/50\n",
      "200/200 [==============================] - 57s 287ms/step - loss: 1.2346 - accuracy: 0.5732\n",
      "Epoch 44/50\n",
      "200/200 [==============================] - 58s 289ms/step - loss: 1.2274 - accuracy: 0.5754\n",
      "Epoch 45/50\n",
      "200/200 [==============================] - 58s 289ms/step - loss: 1.2205 - accuracy: 0.5783\n",
      "Epoch 46/50\n",
      "200/200 [==============================] - 58s 292ms/step - loss: 1.2132 - accuracy: 0.5812\n",
      "Epoch 47/50\n",
      "200/200 [==============================] - 57s 287ms/step - loss: 1.2063 - accuracy: 0.5846\n",
      "Epoch 48/50\n",
      "200/200 [==============================] - 57s 287ms/step - loss: 1.1994 - accuracy: 0.5865\n",
      "Epoch 49/50\n",
      "200/200 [==============================] - 58s 292ms/step - loss: 1.1927 - accuracy: 0.5896\n",
      "Epoch 50/50\n",
      "200/200 [==============================] - 58s 291ms/step - loss: 1.1859 - accuracy: 0.5922\n"
     ]
    }
   ],
   "source": [
    "# Measure training time on a CPU\n",
    "%timeit -n1 -r1 \n",
    "with tf.device('/CPU:0'):\n",
    "    cpu_model = get_model()\n",
    "    cpu_model.fit(train_dataset, epochs=50)"
   ]
  },
  {
   "cell_type": "code",
   "execution_count": null,
   "metadata": {},
   "outputs": [],
   "source": []
  }
 ],
 "metadata": {
  "kernelspec": {
   "display_name": "Python 3",
   "language": "python",
   "name": "python3"
  },
  "language_info": {
   "codemirror_mode": {
    "name": "ipython",
    "version": 3
   },
   "file_extension": ".py",
   "mimetype": "text/x-python",
   "name": "python",
   "nbconvert_exporter": "python",
   "pygments_lexer": "ipython3",
   "version": "3.7.4"
  }
 },
 "nbformat": 4,
 "nbformat_minor": 2
}
