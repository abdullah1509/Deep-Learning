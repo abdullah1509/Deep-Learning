{
 "cells": [
  {
   "cell_type": "code",
   "execution_count": 2,
   "metadata": {},
   "outputs": [],
   "source": [
    "from tensorflow.keras.models import Sequential\n",
    "from tensorflow.keras.layers import Dense\n",
    "from tensorflow.keras.utils import plot_model"
   ]
  },
  {
   "cell_type": "code",
   "execution_count": 3,
   "metadata": {},
   "outputs": [
    {
     "name": "stdout",
     "output_type": "stream",
     "text": [
      "Model: \"sequential\"\n",
      "_________________________________________________________________\n",
      "Layer (type)                 Output Shape              Param #   \n",
      "=================================================================\n",
      "dense (Dense)                (None, 16)                144       \n",
      "=================================================================\n",
      "Total params: 144\n",
      "Trainable params: 144\n",
      "Non-trainable params: 0\n",
      "_________________________________________________________________\n"
     ]
    }
   ],
   "source": [
    "# Sequential model with 8 neuron in input layer 16 neuron in hidden layer\n",
    "model= Sequential()\n",
    "model.add(Dense(16, input_shape=(8, )))\n",
    "model.summary()"
   ]
  },
  {
   "cell_type": "code",
   "execution_count": 6,
   "metadata": {},
   "outputs": [
    {
     "data": {
      "image/png": "[encoded data removed]",
      "text/plain": [
       "<IPython.core.display.Image object>"
      ]
     },
     "execution_count": 6,
     "metadata": {},
     "output_type": "execute_result"
    }
   ],
   "source": [
    "plot_model(model, \n",
    "           to_file='model_plot.png', # save output in png format\n",
    "           show_shapes=True, \n",
    "           show_layer_names=True)"
   ]
  },
  {
   "cell_type": "code",
   "execution_count": 8,
   "metadata": {},
   "outputs": [
    {
     "data": {
      "text/plain": [
       "{'name': 'sequential',\n",
       " 'layers': [{'class_name': 'InputLayer',\n",
       "   'config': {'batch_input_shape': (None, 8),\n",
       "    'dtype': 'float32',\n",
       "    'sparse': False,\n",
       "    'ragged': False,\n",
       "    'name': 'dense_input'}},\n",
       "  {'class_name': 'Dense',\n",
       "   'config': {'name': 'dense',\n",
       "    'trainable': True,\n",
       "    'batch_input_shape': (None, 8),\n",
       "    'dtype': 'float32',\n",
       "    'units': 16,\n",
       "    'activation': 'linear',\n",
       "    'use_bias': True,\n",
       "    'kernel_initializer': {'class_name': 'GlorotUniform',\n",
       "     'config': {'seed': None}},\n",
       "    'bias_initializer': {'class_name': 'Zeros', 'config': {}},\n",
       "    'kernel_regularizer': None,\n",
       "    'bias_regularizer': None,\n",
       "    'activity_regularizer': None,\n",
       "    'kernel_constraint': None,\n",
       "    'bias_constraint': None}}]}"
      ]
     },
     "execution_count": 8,
     "metadata": {},
     "output_type": "execute_result"
    }
   ],
   "source": [
    "# show all parameter of Dense (hidden) layer\n",
    "model.get_config()"
   ]
  },
  {
   "cell_type": "code",
   "execution_count": 10,
   "metadata": {},
   "outputs": [
    {
     "data": {
      "text/plain": [
       "[array([[-0.35634696,  0.054106  , -0.11693895, -0.41184926,  0.3808117 ,\n",
       "         -0.23071957,  0.02519059,  0.30159795,  0.31402624, -0.16821289,\n",
       "         -0.21797013,  0.3076421 , -0.48963094, -0.35600424, -0.08245122,\n",
       "          0.2448703 ],\n",
       "        [ 0.36443758, -0.04006374, -0.16388452, -0.30418444,  0.43827105,\n",
       "          0.48975003,  0.36815846,  0.32850492, -0.4284761 ,  0.48687327,\n",
       "         -0.02553821, -0.11904371,  0.25432587, -0.07827139, -0.24339914,\n",
       "         -0.20248735],\n",
       "        [ 0.14782679,  0.4754336 , -0.0678705 , -0.4538256 , -0.2857015 ,\n",
       "         -0.32134616, -0.03775406,  0.28969955, -0.07966065,  0.20456243,\n",
       "         -0.14075696, -0.19725883,  0.26323032, -0.00578833,  0.05774093,\n",
       "          0.2210598 ],\n",
       "        [ 0.43426228, -0.14000535, -0.24339747, -0.4597379 , -0.32443416,\n",
       "         -0.34985435, -0.28560913, -0.42757714,  0.02199733,  0.0835315 ,\n",
       "         -0.37314487,  0.39256775, -0.28183126, -0.15465951,  0.14291573,\n",
       "          0.13648343],\n",
       "        [-0.10784507, -0.30734885, -0.30784106,  0.3711487 , -0.122172  ,\n",
       "          0.15975213,  0.14226246,  0.07466245, -0.3331406 ,  0.4960903 ,\n",
       "          0.06132615, -0.00439537,  0.10824752,  0.37585735, -0.05546951,\n",
       "          0.4094956 ],\n",
       "        [ 0.19541144,  0.08254838, -0.3857634 , -0.1262201 ,  0.1886642 ,\n",
       "         -0.19853151, -0.15982401, -0.08064246, -0.32095218,  0.2419827 ,\n",
       "          0.04384995,  0.2759689 ,  0.07349646,  0.16154838, -0.34980488,\n",
       "         -0.4263358 ],\n",
       "        [-0.17678118, -0.2528218 , -0.4731151 ,  0.32681406, -0.18254626,\n",
       "          0.30963147, -0.27119076,  0.12871802, -0.42470765, -0.20528579,\n",
       "         -0.27493393, -0.10429084, -0.15726781,  0.33387995,  0.04552269,\n",
       "          0.3196665 ],\n",
       "        [ 0.42057502,  0.496832  ,  0.4142568 ,  0.3216536 , -0.4922546 ,\n",
       "         -0.05957413, -0.4471401 , -0.46848202, -0.3025037 ,  0.4267689 ,\n",
       "          0.05019414, -0.15736032,  0.23871374,  0.46900332,  0.37233722,\n",
       "          0.22457826]], dtype=float32),\n",
       " array([0., 0., 0., 0., 0., 0., 0., 0., 0., 0., 0., 0., 0., 0., 0., 0.],\n",
       "       dtype=float32)]"
      ]
     },
     "execution_count": 10,
     "metadata": {},
     "output_type": "execute_result"
    }
   ],
   "source": [
    "# show weight of layers and biases\n",
    "model.get_weights()"
   ]
  },
  {
   "cell_type": "markdown",
   "metadata": {},
   "source": [
    "### Use of Dropout"
   ]
  },
  {
   "cell_type": "code",
   "execution_count": 13,
   "metadata": {},
   "outputs": [
    {
     "name": "stdout",
     "output_type": "stream",
     "text": [
      "Model: \"sequential_2\"\n",
      "_________________________________________________________________\n",
      "Layer (type)                 Output Shape              Param #   \n",
      "=================================================================\n",
      "dense_2 (Dense)              (None, 16)                144       \n",
      "_________________________________________________________________\n",
      "dropout (Dropout)            (None, 16)                0         \n",
      "_________________________________________________________________\n",
      "dense_3 (Dense)              (None, 10)                170       \n",
      "=================================================================\n",
      "Total params: 314\n",
      "Trainable params: 314\n",
      "Non-trainable params: 0\n",
      "_________________________________________________________________\n"
     ]
    }
   ],
   "source": [
    "# Droupout is used to prevent model from overfitting\n",
    "from tensorflow.keras.layers import Dropout\n",
    "\n",
    "model= Sequential()\n",
    "# 8 neuron in input and 16 neuron in hidden layer\n",
    "model.add(Dense(16, input_shape=(8, )))\n",
    "# reduce 20% input during training model\n",
    "model.add(Dropout(0.2))\n",
    "# output layer with 10 neuron\n",
    "model.add(Dense(10))\n",
    "model.summary()"
   ]
  },
  {
   "cell_type": "code",
   "execution_count": null,
   "metadata": {},
   "outputs": [],
   "source": [
    "plot_model(model, to_file='model_plot.png', show_shapes=True, show_layer_names=True)"
   ]
  },
  {
   "cell_type": "markdown",
   "metadata": {},
   "source": [
    "### Use of Flatten"
   ]
  },
  {
   "cell_type": "code",
   "execution_count": 27,
   "metadata": {},
   "outputs": [
    {
     "name": "stdout",
     "output_type": "stream",
     "text": [
      "Model: \"sequential_12\"\n",
      "_________________________________________________________________\n",
      "Layer (type)                 Output Shape              Param #   \n",
      "=================================================================\n",
      "hidden_layer (Dense)         (None, 8, 16)             48        \n",
      "_________________________________________________________________\n",
      "Flatten_layer (Flatten)      (None, 128)               0         \n",
      "_________________________________________________________________\n",
      "Output_layer (Dense)         (None, 10)                1290      \n",
      "=================================================================\n",
      "Total params: 1,338\n",
      "Trainable params: 1,338\n",
      "Non-trainable params: 0\n",
      "_________________________________________________________________\n"
     ]
    }
   ],
   "source": [
    "# Flatten is used to flatten input data\n",
    "# used with multilayer is presemt and want to pass through dense layer\n",
    "\n",
    "from tensorflow.keras.layers import Dense, Flatten\n",
    "model= Sequential()\n",
    "\n",
    "# 2 neuron in input layer for 8 layers\n",
    "model.add(Dense(16, name='hidden_layer', input_shape=(8, 2)))\n",
    "\n",
    "# bring multi dimensional array to 1D array\n",
    "model.add(Flatten( name='Flatten_layer'))\n",
    "model.add(Dense(10, name='Output_layer'))\n",
    "\n",
    "model.summary()"
   ]
  },
  {
   "cell_type": "code",
   "execution_count": 28,
   "metadata": {},
   "outputs": [
    {
     "data": {
      "image/png": "[encoded data removed]",
      "text/plain": [
       "<IPython.core.display.Image object>"
      ]
     },
     "execution_count": 28,
     "metadata": {},
     "output_type": "execute_result"
    }
   ],
   "source": [
    "plot_model(model, to_file='model_plot.png', show_shapes=True, show_layer_names=True)"
   ]
  },
  {
   "cell_type": "markdown",
   "metadata": {},
   "source": [
    "### Use of Permute"
   ]
  },
  {
   "cell_type": "code",
   "execution_count": 29,
   "metadata": {},
   "outputs": [
    {
     "name": "stdout",
     "output_type": "stream",
     "text": [
      "Model: \"sequential_13\"\n",
      "_________________________________________________________________\n",
      "Layer (type)                 Output Shape              Param #   \n",
      "=================================================================\n",
      "hidden_layer (Dense)         (None, 8, 16)             48        \n",
      "_________________________________________________________________\n",
      "permute_layer (Permute)      (None, 16, 8)             0         \n",
      "=================================================================\n",
      "Total params: 48\n",
      "Trainable params: 48\n",
      "Non-trainable params: 0\n",
      "_________________________________________________________________\n"
     ]
    }
   ],
   "source": [
    "# Permute is used to change input shape\n",
    "\n",
    "from tensorflow.keras.layers import Dense, Permute\n",
    "model=Sequential()\n",
    "model.add(Dense(16, input_shape=(8,2), name='hidden_layer'))\n",
    "# permute 2nd & 1st dimension of input\n",
    "model.add(Permute((2,1), name='permute_layer'))\n",
    "model.summary()"
   ]
  },
  {
   "cell_type": "code",
   "execution_count": 30,
   "metadata": {},
   "outputs": [
    {
     "data": {
      "image/png": "[encoded data removed]",
      "text/plain": [
       "<IPython.core.display.Image object>"
      ]
     },
     "execution_count": 30,
     "metadata": {},
     "output_type": "execute_result"
    }
   ],
   "source": [
    "plot_model(model, to_file='model_plot.png', show_shapes=True, show_layer_names=True)"
   ]
  },
  {
   "cell_type": "markdown",
   "metadata": {},
   "source": [
    "### Use of Conv2D & MaxPooling2D"
   ]
  },
  {
   "cell_type": "code",
   "execution_count": 38,
   "metadata": {},
   "outputs": [
    {
     "name": "stdout",
     "output_type": "stream",
     "text": [
      "Model: \"sequential_20\"\n",
      "_________________________________________________________________\n",
      "Layer (type)                 Output Shape              Param #   \n",
      "=================================================================\n",
      "Conv2D_layer (Conv2D)        (None, 24, 24, 32)        832       \n",
      "_________________________________________________________________\n",
      "Maxpool2D_layer (MaxPooling2 (None, 12, 12, 32)        0         \n",
      "_________________________________________________________________\n",
      "flatten_layer (Flatten)      (None, 4608)              0         \n",
      "_________________________________________________________________\n",
      "output_layer (Dense)         (None, 1000)              4609000   \n",
      "=================================================================\n",
      "Total params: 4,609,832\n",
      "Trainable params: 4,609,832\n",
      "Non-trainable params: 0\n",
      "_________________________________________________________________\n"
     ]
    }
   ],
   "source": [
    "from tensorflow.keras.layers import Dense, Activation, Conv2D, MaxPooling2D, Flatten\n",
    "\n",
    "model= Sequential()\n",
    "# no of filter=32,   kernel size= 5X5,   strides= height & width of convolution\n",
    "model.add(Conv2D(32, name='Conv2D_layer', kernel_size=(5,5), strides=(1,1), input_shape=(28,28,1)))\n",
    "# output= (28-5+1*0)/1 +1 =24\n",
    "\n",
    "model.add(MaxPooling2D(pool_size=(2,2),name='Maxpool2D_layer', strides=(2,2)))\n",
    "model.add(Flatten(name='flatten_layer'))\n",
    "\n",
    "model.add(Dense(1000, name='output_layer', activation='relu'))\n",
    "model.summary()"
   ]
  },
  {
   "cell_type": "code",
   "execution_count": 40,
   "metadata": {},
   "outputs": [
    {
     "data": {
      "image/png": "[encoded data removed]",
      "text/plain": [
       "<IPython.core.display.Image object>"
      ]
     },
     "execution_count": 40,
     "metadata": {},
     "output_type": "execute_result"
    }
   ],
   "source": [
    "plot_model(model, to_file='model_plot.png', show_shapes=True, show_layer_names=True)"
   ]
  },
  {
   "cell_type": "markdown",
   "metadata": {},
   "source": [
    "## Initializers"
   ]
  },
  {
   "cell_type": "code",
   "execution_count": 41,
   "metadata": {},
   "outputs": [],
   "source": [
    "import numpy as np\n",
    "from keras import backend as k\n",
    "from tensorflow.keras.models import Sequential\n",
    "from tensorflow.keras.layers import Dense\n",
    "from tensorflow.keras.initializers import Constant"
   ]
  },
  {
   "cell_type": "code",
   "execution_count": 51,
   "metadata": {},
   "outputs": [],
   "source": [
    "# name of initializers\n",
    "initializers= ['zeros', 'ones', Constant(value=5), 'RandomNormal', 'RandomUniform', 'TruncatedNormal', 'VarianceScaling',\n",
    "               'Orthogonal', 'lecun_normal', 'lecun_uniform', 'glorot_normal', 'glorot_uniform', 'he_normal', 'he_uniform']"
   ]
  },
  {
   "cell_type": "code",
   "execution_count": 52,
   "metadata": {},
   "outputs": [
    {
     "name": "stdout",
     "output_type": "stream",
     "text": [
      "initializers=  zeros\n",
      "[array([[0., 0., 0., 0., 0.],\n",
      "       [0., 0., 0., 0., 0.]], dtype=float32), array([0., 0., 0., 0., 0.], dtype=float32)]\n",
      "\"\"\"\"\"\"\"\"\"\"\"\"\"\"\"\"\"\"\"\"\"\"\"\"\"\"\"\"\"\"\"\"\"\"\"\"\"\"\"\"\"\"\"\"\"\"\"\"\"\"\"\"\"\"\"\"\"\"\"\"\"\"\"\"\"\n",
      "initializers=  ones\n",
      "[array([[1., 1., 1., 1., 1.],\n",
      "       [1., 1., 1., 1., 1.]], dtype=float32), array([0., 0., 0., 0., 0.], dtype=float32)]\n",
      "\"\"\"\"\"\"\"\"\"\"\"\"\"\"\"\"\"\"\"\"\"\"\"\"\"\"\"\"\"\"\"\"\"\"\"\"\"\"\"\"\"\"\"\"\"\"\"\"\"\"\"\"\"\"\"\"\"\"\"\"\"\"\"\"\"\n",
      "initializers=  <keras.initializers.initializers_v2.Constant object at 0x00000083BD183608>\n",
      "[array([[5., 5., 5., 5., 5.],\n",
      "       [5., 5., 5., 5., 5.]], dtype=float32), array([0., 0., 0., 0., 0.], dtype=float32)]\n",
      "\"\"\"\"\"\"\"\"\"\"\"\"\"\"\"\"\"\"\"\"\"\"\"\"\"\"\"\"\"\"\"\"\"\"\"\"\"\"\"\"\"\"\"\"\"\"\"\"\"\"\"\"\"\"\"\"\"\"\"\"\"\"\"\"\"\n",
      "initializers=  RandomNormal\n",
      "[array([[-0.05008746, -0.02507379, -0.01846656, -0.08701815, -0.02067344],\n",
      "       [ 0.01631761, -0.04399832, -0.09709468, -0.0438872 ,  0.03824551]],\n",
      "      dtype=float32), array([0., 0., 0., 0., 0.], dtype=float32)]\n",
      "\"\"\"\"\"\"\"\"\"\"\"\"\"\"\"\"\"\"\"\"\"\"\"\"\"\"\"\"\"\"\"\"\"\"\"\"\"\"\"\"\"\"\"\"\"\"\"\"\"\"\"\"\"\"\"\"\"\"\"\"\"\"\"\"\"\n",
      "initializers=  RandomUniform\n",
      "[array([[-0.04306608,  0.0185086 ,  0.02236638,  0.02298859,  0.00597823],\n",
      "       [-0.02748712, -0.00165584,  0.0304607 , -0.04671397, -0.01272232]],\n",
      "      dtype=float32), array([0., 0., 0., 0., 0.], dtype=float32)]\n",
      "\"\"\"\"\"\"\"\"\"\"\"\"\"\"\"\"\"\"\"\"\"\"\"\"\"\"\"\"\"\"\"\"\"\"\"\"\"\"\"\"\"\"\"\"\"\"\"\"\"\"\"\"\"\"\"\"\"\"\"\"\"\"\"\"\"\n",
      "initializers=  TruncatedNormal\n",
      "[array([[-0.08244003, -0.02229952,  0.00622705, -0.04927057, -0.00952906],\n",
      "       [-0.01820105,  0.06627282, -0.00759836,  0.01442372,  0.01143521]],\n",
      "      dtype=float32), array([0., 0., 0., 0., 0.], dtype=float32)]\n",
      "\"\"\"\"\"\"\"\"\"\"\"\"\"\"\"\"\"\"\"\"\"\"\"\"\"\"\"\"\"\"\"\"\"\"\"\"\"\"\"\"\"\"\"\"\"\"\"\"\"\"\"\"\"\"\"\"\"\"\"\"\"\"\"\"\"\n",
      "initializers=  VarianceScaling\n",
      "[array([[-1.0750947 ,  0.07029386,  0.09333006, -1.3949674 , -1.2701652 ],\n",
      "       [-0.38958082, -0.40887043,  0.2722763 ,  0.86853296, -0.8675864 ]],\n",
      "      dtype=float32), array([0., 0., 0., 0., 0.], dtype=float32)]\n",
      "\"\"\"\"\"\"\"\"\"\"\"\"\"\"\"\"\"\"\"\"\"\"\"\"\"\"\"\"\"\"\"\"\"\"\"\"\"\"\"\"\"\"\"\"\"\"\"\"\"\"\"\"\"\"\"\"\"\"\"\"\"\"\"\"\"\n",
      "initializers=  Orthogonal\n",
      "[array([[-0.56443775, -0.37010127, -0.10742721, -0.5222526 ,  0.51004565],\n",
      "       [-0.23979169, -0.76009107, -0.10974179,  0.48333973, -0.3451103 ]],\n",
      "      dtype=float32), array([0., 0., 0., 0., 0.], dtype=float32)]\n",
      "\"\"\"\"\"\"\"\"\"\"\"\"\"\"\"\"\"\"\"\"\"\"\"\"\"\"\"\"\"\"\"\"\"\"\"\"\"\"\"\"\"\"\"\"\"\"\"\"\"\"\"\"\"\"\"\"\"\"\"\"\"\"\"\"\"\n",
      "initializers=  lecun_normal\n",
      "[array([[ 0.25515717,  0.3620473 ,  1.1935422 ,  0.0793407 , -0.40880984],\n",
      "       [-1.5047265 ,  0.98544824,  0.7757886 ,  0.6641121 , -0.49896696]],\n",
      "      dtype=float32), array([0., 0., 0., 0., 0.], dtype=float32)]\n",
      "\"\"\"\"\"\"\"\"\"\"\"\"\"\"\"\"\"\"\"\"\"\"\"\"\"\"\"\"\"\"\"\"\"\"\"\"\"\"\"\"\"\"\"\"\"\"\"\"\"\"\"\"\"\"\"\"\"\"\"\"\"\"\"\"\"\n",
      "initializers=  lecun_uniform\n",
      "[array([[-0.29953766,  0.993256  , -0.14088368,  0.4231949 ,  1.0718535 ],\n",
      "       [-0.01050997,  0.91604316,  0.379969  ,  0.42251956,  0.30447364]],\n",
      "      dtype=float32), array([0., 0., 0., 0., 0.], dtype=float32)]\n",
      "\"\"\"\"\"\"\"\"\"\"\"\"\"\"\"\"\"\"\"\"\"\"\"\"\"\"\"\"\"\"\"\"\"\"\"\"\"\"\"\"\"\"\"\"\"\"\"\"\"\"\"\"\"\"\"\"\"\"\"\"\"\"\"\"\"\n",
      "initializers=  glorot_normal\n",
      "[array([[-0.80046207, -0.48811212,  0.7395794 , -0.027313  , -0.42186573],\n",
      "       [ 0.48334762,  0.28670558,  0.30777177,  0.15494221,  0.15403801]],\n",
      "      dtype=float32), array([0., 0., 0., 0., 0.], dtype=float32)]\n",
      "\"\"\"\"\"\"\"\"\"\"\"\"\"\"\"\"\"\"\"\"\"\"\"\"\"\"\"\"\"\"\"\"\"\"\"\"\"\"\"\"\"\"\"\"\"\"\"\"\"\"\"\"\"\"\"\"\"\"\"\"\"\"\"\"\"\n",
      "initializers=  glorot_uniform\n",
      "[array([[-0.8743026 ,  0.25198543, -0.12023729, -0.58050036,  0.87206554],\n",
      "       [ 0.55056477, -0.11302269,  0.8074014 , -0.90607953, -0.10998362]],\n",
      "      dtype=float32), array([0., 0., 0., 0., 0.], dtype=float32)]\n",
      "\"\"\"\"\"\"\"\"\"\"\"\"\"\"\"\"\"\"\"\"\"\"\"\"\"\"\"\"\"\"\"\"\"\"\"\"\"\"\"\"\"\"\"\"\"\"\"\"\"\"\"\"\"\"\"\"\"\"\"\"\"\"\"\"\"\n",
      "initializers=  he_normal\n",
      "[array([[-2.163114  , -1.139737  ,  0.7949841 , -1.8442341 , -0.6201082 ],\n",
      "       [ 1.2931924 ,  0.7407248 , -0.91914445, -0.14301479,  1.7603952 ]],\n",
      "      dtype=float32), array([0., 0., 0., 0., 0.], dtype=float32)]\n",
      "\"\"\"\"\"\"\"\"\"\"\"\"\"\"\"\"\"\"\"\"\"\"\"\"\"\"\"\"\"\"\"\"\"\"\"\"\"\"\"\"\"\"\"\"\"\"\"\"\"\"\"\"\"\"\"\"\"\"\"\"\"\"\"\"\"\n",
      "initializers=  he_uniform\n",
      "[array([[ 0.12159896,  0.35457027, -0.5386411 ,  1.700476  , -0.33525968],\n",
      "       [-1.3091513 ,  0.4928583 , -1.3016818 , -0.9983814 ,  0.7567998 ]],\n",
      "      dtype=float32), array([0., 0., 0., 0., 0.], dtype=float32)]\n",
      "\"\"\"\"\"\"\"\"\"\"\"\"\"\"\"\"\"\"\"\"\"\"\"\"\"\"\"\"\"\"\"\"\"\"\"\"\"\"\"\"\"\"\"\"\"\"\"\"\"\"\"\"\"\"\"\"\"\"\"\"\"\"\"\"\"\n"
     ]
    }
   ],
   "source": [
    "# generating model for different initializers\n",
    "np.random.seed(1)\n",
    "\n",
    "for init in initializers:\n",
    "    print('initializers= ', init)\n",
    "    model= Sequential([Dense(5, input_dim=2, kernel_initializer=init)])\n",
    "    \n",
    "    for layer in model.layers:\n",
    "        weights=layer.get_weights()\n",
    "        print(weights)\n",
    "    print('\"\"\"\"\"\"\"\"\"\"\"\"\"\"\"\"\"\"\"\"\"\"\"\"\"\"\"\"\"\"\"\"\"\"\"\"\"\"\"\"\"\"\"\"\"\"\"\"\"\"\"\"\"\"\"\"\"\"\"\"\"\"\"\"\"')"
   ]
  },
  {
   "cell_type": "markdown",
   "metadata": {},
   "source": [
    "## Regularizers"
   ]
  },
  {
   "cell_type": "code",
   "execution_count": 53,
   "metadata": {},
   "outputs": [],
   "source": [
    "from tensorflow.keras.models import Sequential\n",
    "from tensorflow.keras.layers import Dense, Activation\n",
    "from tensorflow.keras import constraints\n",
    "from tensorflow.keras import regularizers"
   ]
  },
  {
   "cell_type": "code",
   "execution_count": 54,
   "metadata": {},
   "outputs": [
    {
     "data": {
      "text/plain": [
       "{'name': 'sequential_59',\n",
       " 'layers': [{'class_name': 'InputLayer',\n",
       "   'config': {'batch_input_shape': (None, 784),\n",
       "    'dtype': 'float32',\n",
       "    'sparse': False,\n",
       "    'ragged': False,\n",
       "    'name': 'dense_53_input'}},\n",
       "  {'class_name': 'Dense',\n",
       "   'config': {'name': 'dense_53',\n",
       "    'trainable': True,\n",
       "    'batch_input_shape': (None, 784),\n",
       "    'dtype': 'float32',\n",
       "    'units': 512,\n",
       "    'activation': 'relu',\n",
       "    'use_bias': True,\n",
       "    'kernel_initializer': {'class_name': 'GlorotUniform',\n",
       "     'config': {'seed': None}},\n",
       "    'bias_initializer': {'class_name': 'Zeros', 'config': {}},\n",
       "    'kernel_regularizer': {'class_name': 'L1',\n",
       "     'config': {'l1': 0.10000000149011612}},\n",
       "    'bias_regularizer': None,\n",
       "    'activity_regularizer': None,\n",
       "    'kernel_constraint': None,\n",
       "    'bias_constraint': None}}]}"
      ]
     },
     "execution_count": 54,
     "metadata": {},
     "output_type": "execute_result"
    }
   ],
   "source": [
    "# L1 regularizer\n",
    "my_reg= regularizers.l1(0.1)\n",
    "\n",
    "model= Sequential()\n",
    "model.add(Dense(512, activation='relu', input_shape=(784,), kernel_regularizer=my_reg))\n",
    "model.get_config()"
   ]
  },
  {
   "cell_type": "code",
   "execution_count": 55,
   "metadata": {},
   "outputs": [
    {
     "data": {
      "text/plain": [
       "{'name': 'sequential_60',\n",
       " 'layers': [{'class_name': 'InputLayer',\n",
       "   'config': {'batch_input_shape': (None, 784),\n",
       "    'dtype': 'float32',\n",
       "    'sparse': False,\n",
       "    'ragged': False,\n",
       "    'name': 'dense_54_input'}},\n",
       "  {'class_name': 'Dense',\n",
       "   'config': {'name': 'dense_54',\n",
       "    'trainable': True,\n",
       "    'batch_input_shape': (None, 784),\n",
       "    'dtype': 'float32',\n",
       "    'units': 512,\n",
       "    'activation': 'relu',\n",
       "    'use_bias': True,\n",
       "    'kernel_initializer': {'class_name': 'GlorotUniform',\n",
       "     'config': {'seed': None}},\n",
       "    'bias_initializer': {'class_name': 'Zeros', 'config': {}},\n",
       "    'kernel_regularizer': {'class_name': 'L2',\n",
       "     'config': {'l2': 0.10000000149011612}},\n",
       "    'bias_regularizer': None,\n",
       "    'activity_regularizer': None,\n",
       "    'kernel_constraint': None,\n",
       "    'bias_constraint': None}}]}"
      ]
     },
     "execution_count": 55,
     "metadata": {},
     "output_type": "execute_result"
    }
   ],
   "source": [
    "# L2 regularizer\n",
    "\n",
    "my_reg= regularizers.l2(0.1)\n",
    "\n",
    "model= Sequential()\n",
    "model.add(Dense(512, activation='relu', input_shape=(784,), kernel_regularizer=my_reg))\n",
    "model.get_config()"
   ]
  },
  {
   "cell_type": "code",
   "execution_count": 57,
   "metadata": {},
   "outputs": [
    {
     "data": {
      "text/plain": [
       "{'name': 'sequential_61',\n",
       " 'layers': [{'class_name': 'InputLayer',\n",
       "   'config': {'batch_input_shape': (None, 784),\n",
       "    'dtype': 'float32',\n",
       "    'sparse': False,\n",
       "    'ragged': False,\n",
       "    'name': 'dense_55_input'}},\n",
       "  {'class_name': 'Dense',\n",
       "   'config': {'name': 'dense_55',\n",
       "    'trainable': True,\n",
       "    'batch_input_shape': (None, 784),\n",
       "    'dtype': 'float32',\n",
       "    'units': 512,\n",
       "    'activation': 'relu',\n",
       "    'use_bias': True,\n",
       "    'kernel_initializer': {'class_name': 'GlorotUniform',\n",
       "     'config': {'seed': None}},\n",
       "    'bias_initializer': {'class_name': 'Zeros', 'config': {}},\n",
       "    'kernel_regularizer': {'class_name': 'L1L2',\n",
       "     'config': {'l1': 0.009999999776482582, 'l2': 0.009999999776482582}},\n",
       "    'bias_regularizer': None,\n",
       "    'activity_regularizer': None,\n",
       "    'kernel_constraint': None,\n",
       "    'bias_constraint': None}}]}"
      ]
     },
     "execution_count": 57,
     "metadata": {},
     "output_type": "execute_result"
    }
   ],
   "source": [
    "# L1L2\n",
    "\n",
    "my_reg= regularizers.l1_l2(l1=0.01, l2=0.01)\n",
    "\n",
    "model= Sequential()\n",
    "model.add(Dense(512, activation='relu', input_shape=(784,), kernel_regularizer=my_reg))\n",
    "model.get_config()"
   ]
  },
  {
   "cell_type": "markdown",
   "metadata": {},
   "source": [
    "## Activation"
   ]
  },
  {
   "cell_type": "code",
   "execution_count": 58,
   "metadata": {},
   "outputs": [],
   "source": [
    "# activation function is special function used to find whether specific neuron is activated or not\n",
    "# it enable neuron to learn better\n",
    "\n",
    "from tensorflow.keras.layers import Activation, Dense\n",
    "from tensorflow.keras.models import Sequential"
   ]
  },
  {
   "cell_type": "code",
   "execution_count": 59,
   "metadata": {},
   "outputs": [],
   "source": [
    "model=Sequential()"
   ]
  },
  {
   "cell_type": "code",
   "execution_count": 60,
   "metadata": {},
   "outputs": [
    {
     "data": {
      "text/plain": [
       "{'name': 'sequential_62',\n",
       " 'layers': [{'class_name': 'InputLayer',\n",
       "   'config': {'batch_input_shape': (None, 784),\n",
       "    'dtype': 'float32',\n",
       "    'sparse': False,\n",
       "    'ragged': False,\n",
       "    'name': 'dense_56_input'}},\n",
       "  {'class_name': 'Dense',\n",
       "   'config': {'name': 'dense_56',\n",
       "    'trainable': True,\n",
       "    'batch_input_shape': (None, 784),\n",
       "    'dtype': 'float32',\n",
       "    'units': 512,\n",
       "    'activation': 'linear',\n",
       "    'use_bias': True,\n",
       "    'kernel_initializer': {'class_name': 'GlorotUniform',\n",
       "     'config': {'seed': None}},\n",
       "    'bias_initializer': {'class_name': 'Zeros', 'config': {}},\n",
       "    'kernel_regularizer': None,\n",
       "    'bias_regularizer': None,\n",
       "    'activity_regularizer': None,\n",
       "    'kernel_constraint': None,\n",
       "    'bias_constraint': None}}]}"
      ]
     },
     "execution_count": 60,
     "metadata": {},
     "output_type": "execute_result"
    }
   ],
   "source": [
    "# Linear activation function\n",
    "model.add(Dense(512, activation='linear', input_shape=(784, )))\n",
    "model.get_config()"
   ]
  },
  {
   "cell_type": "code",
   "execution_count": 61,
   "metadata": {},
   "outputs": [
    {
     "data": {
      "text/plain": [
       "{'name': 'sequential_62',\n",
       " 'layers': [{'class_name': 'InputLayer',\n",
       "   'config': {'batch_input_shape': (None, 784),\n",
       "    'dtype': 'float32',\n",
       "    'sparse': False,\n",
       "    'ragged': False,\n",
       "    'name': 'dense_56_input'}},\n",
       "  {'class_name': 'Dense',\n",
       "   'config': {'name': 'dense_56',\n",
       "    'trainable': True,\n",
       "    'batch_input_shape': (None, 784),\n",
       "    'dtype': 'float32',\n",
       "    'units': 512,\n",
       "    'activation': 'linear',\n",
       "    'use_bias': True,\n",
       "    'kernel_initializer': {'class_name': 'GlorotUniform',\n",
       "     'config': {'seed': None}},\n",
       "    'bias_initializer': {'class_name': 'Zeros', 'config': {}},\n",
       "    'kernel_regularizer': None,\n",
       "    'bias_regularizer': None,\n",
       "    'activity_regularizer': None,\n",
       "    'kernel_constraint': None,\n",
       "    'bias_constraint': None}},\n",
       "  {'class_name': 'Dense',\n",
       "   'config': {'name': 'dense_57',\n",
       "    'trainable': True,\n",
       "    'batch_input_shape': (None, 784),\n",
       "    'dtype': 'float32',\n",
       "    'units': 512,\n",
       "    'activation': 'relu',\n",
       "    'use_bias': True,\n",
       "    'kernel_initializer': {'class_name': 'GlorotUniform',\n",
       "     'config': {'seed': None}},\n",
       "    'bias_initializer': {'class_name': 'Zeros', 'config': {}},\n",
       "    'kernel_regularizer': None,\n",
       "    'bias_regularizer': None,\n",
       "    'activity_regularizer': None,\n",
       "    'kernel_constraint': None,\n",
       "    'bias_constraint': None}}]}"
      ]
     },
     "execution_count": 61,
     "metadata": {},
     "output_type": "execute_result"
    }
   ],
   "source": [
    "# relu activation function\n",
    "model.add(Dense(512, activation='relu', input_shape=(784, )))\n",
    "model.get_config()"
   ]
  },
  {
   "cell_type": "markdown",
   "metadata": {},
   "source": [
    "## Constrant"
   ]
  },
  {
   "cell_type": "code",
   "execution_count": 62,
   "metadata": {},
   "outputs": [],
   "source": [
    "from tensorflow.keras.layers import Activation, Dense\n",
    "from tensorflow.keras.models import Sequential\n",
    "from tensorflow.keras import constraints"
   ]
  },
  {
   "cell_type": "code",
   "execution_count": 63,
   "metadata": {},
   "outputs": [],
   "source": [
    "model=Sequential()"
   ]
  },
  {
   "cell_type": "code",
   "execution_count": 64,
   "metadata": {},
   "outputs": [
    {
     "data": {
      "text/plain": [
       "{'name': 'sequential_63',\n",
       " 'layers': [{'class_name': 'InputLayer',\n",
       "   'config': {'batch_input_shape': (None, 784),\n",
       "    'dtype': 'float32',\n",
       "    'sparse': False,\n",
       "    'ragged': False,\n",
       "    'name': 'dense_58_input'}},\n",
       "  {'class_name': 'Dense',\n",
       "   'config': {'name': 'dense_58',\n",
       "    'trainable': True,\n",
       "    'batch_input_shape': (None, 784),\n",
       "    'dtype': 'float32',\n",
       "    'units': 512,\n",
       "    'activation': 'relu',\n",
       "    'use_bias': True,\n",
       "    'kernel_initializer': {'class_name': 'GlorotUniform',\n",
       "     'config': {'seed': None}},\n",
       "    'bias_initializer': {'class_name': 'Zeros', 'config': {}},\n",
       "    'kernel_regularizer': None,\n",
       "    'bias_regularizer': None,\n",
       "    'activity_regularizer': None,\n",
       "    'kernel_constraint': {'class_name': 'MaxNorm',\n",
       "     'config': {'max_value': 2, 'axis': 0}},\n",
       "    'bias_constraint': None}}]}"
      ]
     },
     "execution_count": 64,
     "metadata": {},
     "output_type": "execute_result"
    }
   ],
   "source": [
    "# MaxNorm\n",
    "my_constraint= constraints.MaxNorm(max_value=2, axis=0)\n",
    "model.add(Dense(512, activation='relu', input_shape=(784, ), kernel_constraint= my_constraint))\n",
    "model.get_config()"
   ]
  },
  {
   "cell_type": "code",
   "execution_count": 66,
   "metadata": {},
   "outputs": [
    {
     "data": {
      "text/plain": [
       "{'name': 'sequential_63',\n",
       " 'layers': [{'class_name': 'InputLayer',\n",
       "   'config': {'batch_input_shape': (None, 784),\n",
       "    'dtype': 'float32',\n",
       "    'sparse': False,\n",
       "    'ragged': False,\n",
       "    'name': 'dense_58_input'}},\n",
       "  {'class_name': 'Dense',\n",
       "   'config': {'name': 'dense_58',\n",
       "    'trainable': True,\n",
       "    'batch_input_shape': (None, 784),\n",
       "    'dtype': 'float32',\n",
       "    'units': 512,\n",
       "    'activation': 'relu',\n",
       "    'use_bias': True,\n",
       "    'kernel_initializer': {'class_name': 'GlorotUniform',\n",
       "     'config': {'seed': None}},\n",
       "    'bias_initializer': {'class_name': 'Zeros', 'config': {}},\n",
       "    'kernel_regularizer': None,\n",
       "    'bias_regularizer': None,\n",
       "    'activity_regularizer': None,\n",
       "    'kernel_constraint': {'class_name': 'MaxNorm',\n",
       "     'config': {'max_value': 2, 'axis': 0}},\n",
       "    'bias_constraint': None}},\n",
       "  {'class_name': 'Dense',\n",
       "   'config': {'name': 'dense_59',\n",
       "    'trainable': True,\n",
       "    'batch_input_shape': (None, 784),\n",
       "    'dtype': 'float32',\n",
       "    'units': 512,\n",
       "    'activation': 'relu',\n",
       "    'use_bias': True,\n",
       "    'kernel_initializer': {'class_name': 'GlorotUniform',\n",
       "     'config': {'seed': None}},\n",
       "    'bias_initializer': {'class_name': 'Zeros', 'config': {}},\n",
       "    'kernel_regularizer': None,\n",
       "    'bias_regularizer': None,\n",
       "    'activity_regularizer': None,\n",
       "    'kernel_constraint': {'class_name': 'UnitNorm', 'config': {'axis': 0}},\n",
       "    'bias_constraint': None}}]}"
      ]
     },
     "execution_count": 66,
     "metadata": {},
     "output_type": "execute_result"
    }
   ],
   "source": [
    "# UnitNorm\n",
    "my_constraint= constraints.UnitNorm(axis=0)\n",
    "model.add(Dense(512, activation='relu', input_shape=(784, ), kernel_constraint= my_constraint))\n",
    "model.get_config()"
   ]
  },
  {
   "cell_type": "code",
   "execution_count": 68,
   "metadata": {},
   "outputs": [
    {
     "data": {
      "text/plain": [
       "{'name': 'sequential_63',\n",
       " 'layers': [{'class_name': 'InputLayer',\n",
       "   'config': {'batch_input_shape': (None, 784),\n",
       "    'dtype': 'float32',\n",
       "    'sparse': False,\n",
       "    'ragged': False,\n",
       "    'name': 'dense_58_input'}},\n",
       "  {'class_name': 'Dense',\n",
       "   'config': {'name': 'dense_58',\n",
       "    'trainable': True,\n",
       "    'batch_input_shape': (None, 784),\n",
       "    'dtype': 'float32',\n",
       "    'units': 512,\n",
       "    'activation': 'relu',\n",
       "    'use_bias': True,\n",
       "    'kernel_initializer': {'class_name': 'GlorotUniform',\n",
       "     'config': {'seed': None}},\n",
       "    'bias_initializer': {'class_name': 'Zeros', 'config': {}},\n",
       "    'kernel_regularizer': None,\n",
       "    'bias_regularizer': None,\n",
       "    'activity_regularizer': None,\n",
       "    'kernel_constraint': {'class_name': 'MaxNorm',\n",
       "     'config': {'max_value': 2, 'axis': 0}},\n",
       "    'bias_constraint': None}},\n",
       "  {'class_name': 'Dense',\n",
       "   'config': {'name': 'dense_59',\n",
       "    'trainable': True,\n",
       "    'batch_input_shape': (None, 784),\n",
       "    'dtype': 'float32',\n",
       "    'units': 512,\n",
       "    'activation': 'relu',\n",
       "    'use_bias': True,\n",
       "    'kernel_initializer': {'class_name': 'GlorotUniform',\n",
       "     'config': {'seed': None}},\n",
       "    'bias_initializer': {'class_name': 'Zeros', 'config': {}},\n",
       "    'kernel_regularizer': None,\n",
       "    'bias_regularizer': None,\n",
       "    'activity_regularizer': None,\n",
       "    'kernel_constraint': {'class_name': 'UnitNorm', 'config': {'axis': 0}},\n",
       "    'bias_constraint': None}},\n",
       "  {'class_name': 'Dense',\n",
       "   'config': {'name': 'dense_60',\n",
       "    'trainable': True,\n",
       "    'batch_input_shape': (None, 784),\n",
       "    'dtype': 'float32',\n",
       "    'units': 512,\n",
       "    'activation': 'relu',\n",
       "    'use_bias': True,\n",
       "    'kernel_initializer': {'class_name': 'GlorotUniform',\n",
       "     'config': {'seed': None}},\n",
       "    'bias_initializer': {'class_name': 'Zeros', 'config': {}},\n",
       "    'kernel_regularizer': None,\n",
       "    'bias_regularizer': None,\n",
       "    'activity_regularizer': None,\n",
       "    'kernel_constraint': {'class_name': 'MinMaxNorm',\n",
       "     'config': {'min_value': 0.0, 'max_value': 2.0, 'rate': 1.0, 'axis': 0}},\n",
       "    'bias_constraint': None}}]}"
      ]
     },
     "execution_count": 68,
     "metadata": {},
     "output_type": "execute_result"
    }
   ],
   "source": [
    "# MinMaxNorm\n",
    "my_constraint= constraints.MinMaxNorm(min_value=0.0, max_value=2.0, rate=1.0, axis=0)\n",
    "model.add(Dense(512, activation='relu', input_shape=(784, ), kernel_constraint= my_constraint))\n",
    "model.get_config()"
   ]
  },
  {
   "cell_type": "code",
   "execution_count": 69,
   "metadata": {},
   "outputs": [
    {
     "data": {
      "text/plain": [
       "{'name': 'sequential_63',\n",
       " 'layers': [{'class_name': 'InputLayer',\n",
       "   'config': {'batch_input_shape': (None, 784),\n",
       "    'dtype': 'float32',\n",
       "    'sparse': False,\n",
       "    'ragged': False,\n",
       "    'name': 'dense_58_input'}},\n",
       "  {'class_name': 'Dense',\n",
       "   'config': {'name': 'dense_58',\n",
       "    'trainable': True,\n",
       "    'batch_input_shape': (None, 784),\n",
       "    'dtype': 'float32',\n",
       "    'units': 512,\n",
       "    'activation': 'relu',\n",
       "    'use_bias': True,\n",
       "    'kernel_initializer': {'class_name': 'GlorotUniform',\n",
       "     'config': {'seed': None}},\n",
       "    'bias_initializer': {'class_name': 'Zeros', 'config': {}},\n",
       "    'kernel_regularizer': None,\n",
       "    'bias_regularizer': None,\n",
       "    'activity_regularizer': None,\n",
       "    'kernel_constraint': {'class_name': 'MaxNorm',\n",
       "     'config': {'max_value': 2, 'axis': 0}},\n",
       "    'bias_constraint': None}},\n",
       "  {'class_name': 'Dense',\n",
       "   'config': {'name': 'dense_59',\n",
       "    'trainable': True,\n",
       "    'batch_input_shape': (None, 784),\n",
       "    'dtype': 'float32',\n",
       "    'units': 512,\n",
       "    'activation': 'relu',\n",
       "    'use_bias': True,\n",
       "    'kernel_initializer': {'class_name': 'GlorotUniform',\n",
       "     'config': {'seed': None}},\n",
       "    'bias_initializer': {'class_name': 'Zeros', 'config': {}},\n",
       "    'kernel_regularizer': None,\n",
       "    'bias_regularizer': None,\n",
       "    'activity_regularizer': None,\n",
       "    'kernel_constraint': {'class_name': 'UnitNorm', 'config': {'axis': 0}},\n",
       "    'bias_constraint': None}},\n",
       "  {'class_name': 'Dense',\n",
       "   'config': {'name': 'dense_60',\n",
       "    'trainable': True,\n",
       "    'batch_input_shape': (None, 784),\n",
       "    'dtype': 'float32',\n",
       "    'units': 512,\n",
       "    'activation': 'relu',\n",
       "    'use_bias': True,\n",
       "    'kernel_initializer': {'class_name': 'GlorotUniform',\n",
       "     'config': {'seed': None}},\n",
       "    'bias_initializer': {'class_name': 'Zeros', 'config': {}},\n",
       "    'kernel_regularizer': None,\n",
       "    'bias_regularizer': None,\n",
       "    'activity_regularizer': None,\n",
       "    'kernel_constraint': {'class_name': 'MinMaxNorm',\n",
       "     'config': {'min_value': 0.0, 'max_value': 2.0, 'rate': 1.0, 'axis': 0}},\n",
       "    'bias_constraint': None}},\n",
       "  {'class_name': 'Dense',\n",
       "   'config': {'name': 'dense_61',\n",
       "    'trainable': True,\n",
       "    'batch_input_shape': (None, 784),\n",
       "    'dtype': 'float32',\n",
       "    'units': 512,\n",
       "    'activation': 'relu',\n",
       "    'use_bias': True,\n",
       "    'kernel_initializer': {'class_name': 'GlorotUniform',\n",
       "     'config': {'seed': None}},\n",
       "    'bias_initializer': {'class_name': 'Zeros', 'config': {}},\n",
       "    'kernel_regularizer': None,\n",
       "    'bias_regularizer': None,\n",
       "    'activity_regularizer': None,\n",
       "    'kernel_constraint': {'class_name': 'NonNeg', 'config': {}},\n",
       "    'bias_constraint': None}}]}"
      ]
     },
     "execution_count": 69,
     "metadata": {},
     "output_type": "execute_result"
    }
   ],
   "source": [
    "# NonNeg\n",
    "my_constraint= constraints.NonNeg()\n",
    "model.add(Dense(512, activation='relu', input_shape=(784, ), kernel_constraint= my_constraint))\n",
    "model.get_config()"
   ]
  },
  {
   "cell_type": "code",
   "execution_count": null,
   "metadata": {},
   "outputs": [],
   "source": []
  }
 ],
 "metadata": {
  "kernelspec": {
   "display_name": "Python 3",
   "language": "python",
   "name": "python3"
  },
  "language_info": {
   "codemirror_mode": {
    "name": "ipython",
    "version": 3
   },
   "file_extension": ".py",
   "mimetype": "text/x-python",
   "name": "python",
   "nbconvert_exporter": "python",
   "pygments_lexer": "ipython3",
   "version": "3.7.4"
  }
 },
 "nbformat": 4,
 "nbformat_minor": 2
}
