{
 "cells": [
  {
   "cell_type": "code",
   "execution_count": 1,
   "metadata": {},
   "outputs": [],
   "source": [
    "import numpy as np\n",
    "from tensorflow.keras.preprocessing.text import one_hot\n",
    "from tensorflow.keras.preprocessing.sequence import pad_sequences\n",
    "from tensorflow.keras.models import Sequential\n",
    "from tensorflow.keras.layers import Dense\n",
    "from tensorflow.keras.layers import Flatten\n",
    "from tensorflow.keras.layers import Embedding"
   ]
  },
  {
   "cell_type": "code",
   "execution_count": 2,
   "metadata": {},
   "outputs": [],
   "source": [
    "# food review keyword\n",
    "reviews = ['nice food',\n",
    "        'amazing restaurant',\n",
    "        'too good',\n",
    "        'just loved it!',\n",
    "        'will go again',\n",
    "        'horrible food',\n",
    "        'never go there',\n",
    "        'poor service',\n",
    "        'poor quality',\n",
    "        'needs improvement']"
   ]
  },
  {
   "cell_type": "code",
   "execution_count": 3,
   "metadata": {},
   "outputs": [],
   "source": [
    "# labels of \"reviews\"\n",
    "sentiment = np.array([1,1,1,1,1,0,0,0,0,0])"
   ]
  },
  {
   "cell_type": "code",
   "execution_count": 4,
   "metadata": {},
   "outputs": [
    {
     "data": {
      "text/plain": [
       "[24, 7]"
      ]
     },
     "execution_count": 4,
     "metadata": {},
     "output_type": "execute_result"
    }
   ],
   "source": [
    "# one hot encoding of words\n",
    "one_hot(\"amazing restaurant\",30)"
   ]
  },
  {
   "cell_type": "code",
   "execution_count": 6,
   "metadata": {},
   "outputs": [
    {
     "data": {
      "text/plain": [
       "[[13, 25],\n",
       " [24, 7],\n",
       " [21, 18],\n",
       " [4, 18, 17],\n",
       " [15, 20, 28],\n",
       " [5, 25],\n",
       " [1, 20, 19],\n",
       " [7, 1],\n",
       " [7, 3],\n",
       " [3, 6]]"
      ]
     },
     "execution_count": 6,
     "metadata": {},
     "output_type": "execute_result"
    }
   ],
   "source": [
    "# encoded vector for each review\n",
    "vocab_size = 30\n",
    "encoded_reviews = [one_hot(d, vocab_size) for d in reviews]\n",
    "encoded_reviews"
   ]
  },
  {
   "cell_type": "code",
   "execution_count": 7,
   "metadata": {},
   "outputs": [
    {
     "data": {
      "text/plain": [
       "array([[13, 25,  0],\n",
       "       [24,  7,  0],\n",
       "       [21, 18,  0],\n",
       "       [ 4, 18, 17],\n",
       "       [15, 20, 28],\n",
       "       [ 5, 25,  0],\n",
       "       [ 1, 20, 19],\n",
       "       [ 7,  1,  0],\n",
       "       [ 7,  3,  0],\n",
       "       [ 3,  6,  0]])"
      ]
     },
     "execution_count": 7,
     "metadata": {},
     "output_type": "execute_result"
    }
   ],
   "source": [
    "# encoding all vector to same size=3\n",
    "max_length = 3\n",
    "padded_reviews = pad_sequences(encoded_reviews, maxlen=max_length, padding='post')\n",
    "padded_reviews"
   ]
  },
  {
   "cell_type": "code",
   "execution_count": 8,
   "metadata": {},
   "outputs": [],
   "source": [
    "embeded_vector_size = 5\n",
    "\n",
    "model = Sequential()\n",
    "# Embedding is keras pre-defined layer; vocab_size,embeded_vector_size,max_length is declared above\n",
    "model.add(Embedding(vocab_size, embeded_vector_size, input_length=max_length,name=\"embedding\"))\n",
    "model.add(Flatten())\n",
    "model.add(Dense(1, activation='sigmoid'))"
   ]
  },
  {
   "cell_type": "code",
   "execution_count": 9,
   "metadata": {},
   "outputs": [],
   "source": [
    "X = padded_reviews\n",
    "y = sentiment"
   ]
  },
  {
   "cell_type": "code",
   "execution_count": 10,
   "metadata": {},
   "outputs": [
    {
     "name": "stdout",
     "output_type": "stream",
     "text": [
      "Model: \"sequential\"\n",
      "_________________________________________________________________\n",
      "Layer (type)                 Output Shape              Param #   \n",
      "=================================================================\n",
      "embedding (Embedding)        (None, 3, 5)              150       \n",
      "_________________________________________________________________\n",
      "flatten (Flatten)            (None, 15)                0         \n",
      "_________________________________________________________________\n",
      "dense (Dense)                (None, 1)                 16        \n",
      "=================================================================\n",
      "Total params: 166\n",
      "Trainable params: 166\n",
      "Non-trainable params: 0\n",
      "_________________________________________________________________\n"
     ]
    }
   ],
   "source": [
    "model.compile(optimizer='adam', loss='binary_crossentropy', metrics=['accuracy'])\n",
    "model.summary()"
   ]
  },
  {
   "cell_type": "code",
   "execution_count": 11,
   "metadata": {},
   "outputs": [
    {
     "name": "stdout",
     "output_type": "stream",
     "text": [
      "Epoch 1/50\n",
      "1/1 [==============================] - 3s 3s/step - loss: 0.6865 - accuracy: 0.8000\n",
      "Epoch 2/50\n",
      "1/1 [==============================] - 0s 10ms/step - loss: 0.6850 - accuracy: 0.9000\n",
      "Epoch 3/50\n",
      "1/1 [==============================] - 0s 7ms/step - loss: 0.6834 - accuracy: 0.8000\n",
      "Epoch 4/50\n",
      "1/1 [==============================] - 0s 5ms/step - loss: 0.6819 - accuracy: 0.8000\n",
      "Epoch 5/50\n",
      "1/1 [==============================] - 0s 5ms/step - loss: 0.6803 - accuracy: 0.8000\n",
      "Epoch 6/50\n",
      "1/1 [==============================] - 0s 8ms/step - loss: 0.6788 - accuracy: 0.8000\n",
      "Epoch 7/50\n",
      "1/1 [==============================] - 0s 5ms/step - loss: 0.6772 - accuracy: 0.8000\n",
      "Epoch 8/50\n",
      "1/1 [==============================] - 0s 6ms/step - loss: 0.6757 - accuracy: 0.8000\n",
      "Epoch 9/50\n",
      "1/1 [==============================] - 0s 7ms/step - loss: 0.6741 - accuracy: 0.8000\n",
      "Epoch 10/50\n",
      "1/1 [==============================] - 0s 12ms/step - loss: 0.6725 - accuracy: 0.9000\n",
      "Epoch 11/50\n",
      "1/1 [==============================] - 0s 11ms/step - loss: 0.6710 - accuracy: 0.9000\n",
      "Epoch 12/50\n",
      "1/1 [==============================] - 0s 11ms/step - loss: 0.6694 - accuracy: 0.9000\n",
      "Epoch 13/50\n",
      "1/1 [==============================] - 0s 5ms/step - loss: 0.6679 - accuracy: 0.9000\n",
      "Epoch 14/50\n",
      "1/1 [==============================] - 0s 7ms/step - loss: 0.6663 - accuracy: 0.9000\n",
      "Epoch 15/50\n",
      "1/1 [==============================] - 0s 5ms/step - loss: 0.6647 - accuracy: 0.9000\n",
      "Epoch 16/50\n",
      "1/1 [==============================] - 0s 4ms/step - loss: 0.6632 - accuracy: 0.9000\n",
      "Epoch 17/50\n",
      "1/1 [==============================] - 0s 7ms/step - loss: 0.6616 - accuracy: 0.9000\n",
      "Epoch 18/50\n",
      "1/1 [==============================] - 0s 6ms/step - loss: 0.6600 - accuracy: 0.9000\n",
      "Epoch 19/50\n",
      "1/1 [==============================] - 0s 5ms/step - loss: 0.6584 - accuracy: 0.9000\n",
      "Epoch 20/50\n",
      "1/1 [==============================] - 0s 8ms/step - loss: 0.6568 - accuracy: 0.9000\n",
      "Epoch 21/50\n",
      "1/1 [==============================] - 0s 5ms/step - loss: 0.6552 - accuracy: 0.9000\n",
      "Epoch 22/50\n",
      "1/1 [==============================] - 0s 8ms/step - loss: 0.6536 - accuracy: 0.9000\n",
      "Epoch 23/50\n",
      "1/1 [==============================] - 0s 5ms/step - loss: 0.6520 - accuracy: 0.9000\n",
      "Epoch 24/50\n",
      "1/1 [==============================] - 0s 10ms/step - loss: 0.6504 - accuracy: 0.9000\n",
      "Epoch 25/50\n",
      "1/1 [==============================] - 0s 4ms/step - loss: 0.6488 - accuracy: 0.9000\n",
      "Epoch 26/50\n",
      "1/1 [==============================] - 0s 7ms/step - loss: 0.6472 - accuracy: 0.9000\n",
      "Epoch 27/50\n",
      "1/1 [==============================] - 0s 6ms/step - loss: 0.6455 - accuracy: 0.9000\n",
      "Epoch 28/50\n",
      "1/1 [==============================] - 0s 4ms/step - loss: 0.6439 - accuracy: 0.9000\n",
      "Epoch 29/50\n",
      "1/1 [==============================] - 0s 6ms/step - loss: 0.6423 - accuracy: 0.9000\n",
      "Epoch 30/50\n",
      "1/1 [==============================] - 0s 16ms/step - loss: 0.6406 - accuracy: 0.9000\n",
      "Epoch 31/50\n",
      "1/1 [==============================] - 0s 16ms/step - loss: 0.6390 - accuracy: 0.9000\n",
      "Epoch 32/50\n",
      "1/1 [==============================] - 0s 7ms/step - loss: 0.6373 - accuracy: 0.9000\n",
      "Epoch 33/50\n",
      "1/1 [==============================] - 0s 4ms/step - loss: 0.6356 - accuracy: 0.9000\n",
      "Epoch 34/50\n",
      "1/1 [==============================] - 0s 17ms/step - loss: 0.6339 - accuracy: 0.9000\n",
      "Epoch 35/50\n",
      "1/1 [==============================] - 0s 6ms/step - loss: 0.6323 - accuracy: 0.9000\n",
      "Epoch 36/50\n",
      "1/1 [==============================] - 0s 7ms/step - loss: 0.6306 - accuracy: 0.9000\n",
      "Epoch 37/50\n",
      "1/1 [==============================] - 0s 8ms/step - loss: 0.6289 - accuracy: 0.9000\n",
      "Epoch 38/50\n",
      "1/1 [==============================] - 0s 7ms/step - loss: 0.6271 - accuracy: 0.9000\n",
      "Epoch 39/50\n",
      "1/1 [==============================] - 0s 11ms/step - loss: 0.6254 - accuracy: 0.9000\n",
      "Epoch 40/50\n",
      "1/1 [==============================] - 0s 6ms/step - loss: 0.6237 - accuracy: 0.9000\n",
      "Epoch 41/50\n",
      "1/1 [==============================] - 0s 7ms/step - loss: 0.6220 - accuracy: 0.9000\n",
      "Epoch 42/50\n",
      "1/1 [==============================] - 0s 9ms/step - loss: 0.6202 - accuracy: 0.9000\n",
      "Epoch 43/50\n",
      "1/1 [==============================] - 0s 15ms/step - loss: 0.6185 - accuracy: 0.9000\n",
      "Epoch 44/50\n",
      "1/1 [==============================] - 0s 7ms/step - loss: 0.6167 - accuracy: 0.9000\n",
      "Epoch 45/50\n",
      "1/1 [==============================] - 0s 8ms/step - loss: 0.6150 - accuracy: 0.9000\n",
      "Epoch 46/50\n",
      "1/1 [==============================] - 0s 7ms/step - loss: 0.6132 - accuracy: 0.9000\n",
      "Epoch 47/50\n",
      "1/1 [==============================] - 0s 7ms/step - loss: 0.6114 - accuracy: 0.9000\n",
      "Epoch 48/50\n",
      "1/1 [==============================] - 0s 8ms/step - loss: 0.6097 - accuracy: 0.9000\n",
      "Epoch 49/50\n",
      "1/1 [==============================] - 0s 5ms/step - loss: 0.6079 - accuracy: 0.9000\n",
      "Epoch 50/50\n",
      "1/1 [==============================] - 0s 7ms/step - loss: 0.6061 - accuracy: 0.9000\n"
     ]
    },
    {
     "data": {
      "text/plain": [
       "<keras.callbacks.History at 0x626c1ecb88>"
      ]
     },
     "execution_count": 11,
     "metadata": {},
     "output_type": "execute_result"
    }
   ],
   "source": [
    "model.fit(X, y, epochs=50, verbose=1)"
   ]
  },
  {
   "cell_type": "code",
   "execution_count": 13,
   "metadata": {},
   "outputs": [
    {
     "name": "stdout",
     "output_type": "stream",
     "text": [
      "1/1 [==============================] - 0s 25ms/step - loss: 0.6043 - accuracy: 0.9000\n"
     ]
    },
    {
     "data": {
      "text/plain": [
       "[0.6042678952217102, 0.8999999761581421]"
      ]
     },
     "execution_count": 13,
     "metadata": {},
     "output_type": "execute_result"
    }
   ],
   "source": [
    "model.evaluate(X, y)"
   ]
  },
  {
   "cell_type": "code",
   "execution_count": 16,
   "metadata": {},
   "outputs": [
    {
     "data": {
      "text/plain": [
       "array([[ 0.09628446,  0.07398094,  0.0008327 ,  0.09887042,  0.0002406 ],\n",
       "       [ 0.01579561,  0.03396668, -0.08388732,  0.09147494,  0.03780185],\n",
       "       [-0.04040011,  0.0428051 ,  0.02637786,  0.00598715, -0.01523396],\n",
       "       [ 0.06954566,  0.02686336, -0.09407169,  0.07032447,  0.04059418],\n",
       "       [-0.04012604, -0.08061554,  0.07216562, -0.07886373,  0.01573459],\n",
       "       [ 0.08648391,  0.00359615, -0.07307057,  0.1023572 , -0.09519064],\n",
       "       [ 0.09771378, -0.00105027, -0.01141248,  0.04280407,  0.09566432],\n",
       "       [ 0.06940757,  0.05927425, -0.06112317,  0.06405799, -0.06563884],\n",
       "       [-0.02789155,  0.01972323,  0.02163409, -0.03454898, -0.00477271],\n",
       "       [-0.02253958, -0.03831007, -0.03408853, -0.02846241,  0.01561663],\n",
       "       [ 0.01470587, -0.03715972,  0.01954916,  0.03988605,  0.02630813],\n",
       "       [-0.00467942, -0.04134126,  0.0290795 ,  0.00258292,  0.01818866],\n",
       "       [ 0.0025645 ,  0.04636823, -0.0495425 ,  0.0220401 ,  0.00475455],\n",
       "       [-0.0742823 , -0.01501617,  0.0901227 , -0.04602879,  0.0367586 ],\n",
       "       [-0.00508989,  0.04772201, -0.00240079, -0.00767387,  0.0295562 ],\n",
       "       [-0.04979983, -0.04125009,  0.08488174, -0.1000976 ,  0.10117334],\n",
       "       [ 0.04282798,  0.03663018, -0.02653563, -0.0304614 , -0.02588434],\n",
       "       [-0.01591595, -0.02187044, -0.09754461, -0.0465857 , -0.03730611],\n",
       "       [-0.027342  , -0.03972998,  0.09690037, -0.08604146, -0.09130268],\n",
       "       [ 0.0684642 ,  0.08635717,  0.00449326,  0.07306601,  0.09967002],\n",
       "       [-0.00429783,  0.03315653,  0.00692354,  0.05195712,  0.02824488],\n",
       "       [-0.02245152, -0.00854071,  0.05045316, -0.03997463,  0.05507187],\n",
       "       [ 0.03565625,  0.00591778,  0.04877622, -0.04042275, -0.00061359],\n",
       "       [-0.0219263 ,  0.0157254 , -0.02250909,  0.00458416,  0.04406961],\n",
       "       [-0.07865009, -0.03959242,  0.04717879, -0.05538614,  0.04622589],\n",
       "       [-0.00026379, -0.04227342,  0.002792  , -0.01708826, -0.02963728],\n",
       "       [-0.03320517,  0.01745585,  0.02079189,  0.01485798, -0.04371103],\n",
       "       [ 0.02441006, -0.04941242, -0.0371815 , -0.02589587, -0.02725116],\n",
       "       [-0.00771443, -0.02817634, -0.08196581, -0.06776955, -0.07386602],\n",
       "       [ 0.02554272, -0.02827921,  0.02689913, -0.01758425, -0.02362547]],\n",
       "      dtype=float32)"
      ]
     },
     "execution_count": 16,
     "metadata": {},
     "output_type": "execute_result"
    }
   ],
   "source": [
    "# weight of reviews array\n",
    "weights = model.get_layer('embedding').get_weights()[0]\n",
    "weights"
   ]
  },
  {
   "cell_type": "code",
   "execution_count": 17,
   "metadata": {},
   "outputs": [
    {
     "data": {
      "text/plain": [
       "30"
      ]
     },
     "execution_count": 17,
     "metadata": {},
     "output_type": "execute_result"
    }
   ],
   "source": [
    "len(weights)"
   ]
  },
  {
   "cell_type": "code",
   "execution_count": 18,
   "metadata": {},
   "outputs": [
    {
     "data": {
      "text/plain": [
       "array([0.09628446, 0.07398094, 0.0008327 , 0.09887042, 0.0002406 ],\n",
       "      dtype=float32)"
      ]
     },
     "execution_count": 18,
     "metadata": {},
     "output_type": "execute_result"
    }
   ],
   "source": [
    "weights[0]"
   ]
  },
  {
   "cell_type": "code",
   "execution_count": 19,
   "metadata": {},
   "outputs": [
    {
     "data": {
      "text/plain": [
       "array([-0.04012604, -0.08061554,  0.07216562, -0.07886373,  0.01573459],\n",
       "      dtype=float32)"
      ]
     },
     "execution_count": 19,
     "metadata": {},
     "output_type": "execute_result"
    }
   ],
   "source": [
    "weights[4]"
   ]
  },
  {
   "cell_type": "code",
   "execution_count": 21,
   "metadata": {},
   "outputs": [
    {
     "data": {
      "text/plain": [
       "array([ 0.02554272, -0.02827921,  0.02689913, -0.01758425, -0.02362547],\n",
       "      dtype=float32)"
      ]
     },
     "execution_count": 21,
     "metadata": {},
     "output_type": "execute_result"
    }
   ],
   "source": [
    "weights[29]"
   ]
  },
  {
   "cell_type": "code",
   "execution_count": null,
   "metadata": {},
   "outputs": [],
   "source": []
  }
 ],
 "metadata": {
  "kernelspec": {
   "display_name": "Python 3",
   "language": "python",
   "name": "python3"
  },
  "language_info": {
   "codemirror_mode": {
    "name": "ipython",
    "version": 3
   },
   "file_extension": ".py",
   "mimetype": "text/x-python",
   "name": "python",
   "nbconvert_exporter": "python",
   "pygments_lexer": "ipython3",
   "version": "3.7.4"
  }
 },
 "nbformat": 4,
 "nbformat_minor": 2
}
